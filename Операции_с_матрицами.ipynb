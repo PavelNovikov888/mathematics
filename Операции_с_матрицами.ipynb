{
  "cells": [
    {
      "cell_type": "markdown",
      "metadata": {
        "id": "view-in-github",
        "colab_type": "text"
      },
      "source": [
        "<a href=\"https://colab.research.google.com/github/PavelNovikov888/mathematics/blob/master/%D0%9E%D0%BF%D0%B5%D1%80%D0%B0%D1%86%D0%B8%D0%B8_%D1%81_%D0%BC%D0%B0%D1%82%D1%80%D0%B8%D1%86%D0%B0%D0%BC%D0%B8.ipynb\" target=\"_parent\"><img src=\"https://colab.research.google.com/assets/colab-badge.svg\" alt=\"Open In Colab\"/></a>"
      ]
    },
    {
      "cell_type": "code",
      "execution_count": 1,
      "metadata": {
        "collapsed": true,
        "id": "xDh5HWkwwSqV"
      },
      "outputs": [],
      "source": [
        "import numpy as np"
      ]
    },
    {
      "cell_type": "markdown",
      "source": [
        "# Как создать матрицу?"
      ],
      "metadata": {
        "id": "9x03Cu-PwWfQ"
      }
    },
    {
      "cell_type": "markdown",
      "source": [
        "## как двумерный массив Numpy"
      ],
      "metadata": {
        "id": "oBcWvzMNwceJ"
      }
    },
    {
      "cell_type": "code",
      "execution_count": 2,
      "metadata": {
        "colab": {
          "base_uri": "https://localhost:8080/"
        },
        "id": "Hl1hVXEHwSqk",
        "outputId": "baacc90a-01c0-48b8-f51a-9d2b36b000a2"
      },
      "outputs": [
        {
          "output_type": "execute_result",
          "data": {
            "text/plain": [
              "array([[1, 1],\n",
              "       [2, 3],\n",
              "       [4, 5]])"
            ]
          },
          "metadata": {},
          "execution_count": 2
        }
      ],
      "source": [
        "# как двумерный массив Numpy\n",
        "np.array( [ [1,1] , [2,3] , [4,5] ] )"
      ]
    },
    {
      "cell_type": "markdown",
      "source": [
        "## преобразовать из Pandas DataFrame"
      ],
      "metadata": {
        "id": "Gbragp-cwkvl"
      }
    },
    {
      "cell_type": "code",
      "execution_count": 3,
      "metadata": {
        "colab": {
          "base_uri": "https://localhost:8080/"
        },
        "id": "CkLTzE8cwSqo",
        "outputId": "8d0eee01-3d80-4395-e053-ebe8295a1848"
      },
      "outputs": [
        {
          "output_type": "stream",
          "name": "stdout",
          "text": [
            "Data Frame:\n",
            "    0   1   2\n",
            "0   1   2   3\n",
            "1   4   5   6\n",
            "2   7   8   9\n",
            "3  10  11  12\n",
            "Matrix:\n",
            "[[ 1  2  3]\n",
            " [ 4  5  6]\n",
            " [ 7  8  9]\n",
            " [10 11 12]]\n"
          ]
        }
      ],
      "source": [
        "# преобразовать из Pandas DataFrame\n",
        "import pandas as pd\n",
        "\n",
        "data=[[1,2,3],[4,5,6],[7,8,9],[10,11,12]]\n",
        "df = pd.DataFrame(data)\n",
        "\n",
        "A = df.values\n",
        "\n",
        "print('Data Frame:')\n",
        "print(df)\n",
        "print('Matrix:')\n",
        "print(A)"
      ]
    },
    {
      "cell_type": "markdown",
      "source": [
        "## размер матрицы"
      ],
      "metadata": {
        "id": "lsgF0SK6wtW0"
      }
    },
    {
      "cell_type": "code",
      "execution_count": 4,
      "metadata": {
        "colab": {
          "base_uri": "https://localhost:8080/"
        },
        "id": "FypvEuC6wSqr",
        "outputId": "95302ee5-95e4-40bf-9559-0ee691b9b588"
      },
      "outputs": [
        {
          "output_type": "execute_result",
          "data": {
            "text/plain": [
              "(4, 3)"
            ]
          },
          "metadata": {},
          "execution_count": 4
        }
      ],
      "source": [
        "# размер матрицы\n",
        "np.shape(A)"
      ]
    },
    {
      "cell_type": "markdown",
      "source": [
        "## вектор-столбец"
      ],
      "metadata": {
        "id": "LQBsyQ5yw1Df"
      }
    },
    {
      "cell_type": "code",
      "execution_count": 5,
      "metadata": {
        "colab": {
          "base_uri": "https://localhost:8080/"
        },
        "id": "ufwEZB2jwSqt",
        "outputId": "ec84fba4-9e74-49b8-b512-42ac820c5df3"
      },
      "outputs": [
        {
          "output_type": "execute_result",
          "data": {
            "text/plain": [
              "array([[1],\n",
              "       [2],\n",
              "       [3]])"
            ]
          },
          "metadata": {},
          "execution_count": 5
        }
      ],
      "source": [
        "# вектор-столбец\n",
        "x=np.array([1,2,3])\n",
        "np.reshape(x,(3,1))"
      ]
    },
    {
      "cell_type": "markdown",
      "source": [
        "## вектор-строка"
      ],
      "metadata": {
        "id": "lBHKOUI2w7vG"
      }
    },
    {
      "cell_type": "code",
      "execution_count": 6,
      "metadata": {
        "colab": {
          "base_uri": "https://localhost:8080/"
        },
        "id": "8YzzTeQOwSqv",
        "outputId": "276fa0ed-4e77-4249-8291-2b0c85aa866c"
      },
      "outputs": [
        {
          "output_type": "execute_result",
          "data": {
            "text/plain": [
              "array([[1, 2, 3]])"
            ]
          },
          "metadata": {},
          "execution_count": 6
        }
      ],
      "source": [
        "# вектор-строка\n",
        "np.reshape(x,(1,3))"
      ]
    },
    {
      "cell_type": "code",
      "execution_count": 7,
      "metadata": {
        "colab": {
          "base_uri": "https://localhost:8080/"
        },
        "id": "xwtG_Kv6wSqy",
        "outputId": "7ed5051d-e150-4414-b813-f50260d35ff7"
      },
      "outputs": [
        {
          "output_type": "stream",
          "name": "stdout",
          "text": [
            "[[1 2 3]] (1, 3)\n"
          ]
        }
      ],
      "source": [
        "# вектор-строка\n",
        "x_row=np.array([1, 2, 3], ndmin=2)\n",
        "print(x_row,np.shape(x_row))"
      ]
    },
    {
      "cell_type": "markdown",
      "source": [
        "# Индексация матриц (двумерных массивов numpy)"
      ],
      "metadata": {
        "id": "pddoe1sxxGQz"
      }
    },
    {
      "cell_type": "code",
      "execution_count": 8,
      "metadata": {
        "colab": {
          "base_uri": "https://localhost:8080/"
        },
        "id": "7ZZpNCfIwSq0",
        "outputId": "7eff579e-ef28-4782-8b73-acd3b6660629"
      },
      "outputs": [
        {
          "output_type": "stream",
          "name": "stdout",
          "text": [
            "матрица А:\n",
            "[[ 1  2  3]\n",
            " [ 4  5  6]\n",
            " [ 7  8  9]\n",
            " [10 11 12]]\n",
            "Первая строка матрицы А:\n",
            "[1 2 3]\n",
            "Третий столбец матрицы А:\n",
            "[ 3  6  9 12]\n",
            "Элемент а_43:\n",
            "12\n"
          ]
        }
      ],
      "source": [
        "# индексация матриц (двумерных массивов numpy)\n",
        "print('матрица А:')\n",
        "print(A)\n",
        "print('Первая строка матрицы А:')\n",
        "print(A[0])\n",
        "print('Третий столбец матрицы А:')\n",
        "print(A[:,2])\n",
        "print('Элемент а_43:')\n",
        "print(A[3,2])"
      ]
    },
    {
      "cell_type": "markdown",
      "source": [
        "# Создание специальных матриц"
      ],
      "metadata": {
        "id": "oKdfUFu2xQS-"
      }
    },
    {
      "cell_type": "markdown",
      "source": [
        "## нулевая"
      ],
      "metadata": {
        "id": "QXMUuRuuxVHk"
      }
    },
    {
      "cell_type": "code",
      "execution_count": 10,
      "metadata": {
        "colab": {
          "base_uri": "https://localhost:8080/"
        },
        "id": "voAklOR-wSq4",
        "outputId": "30b8c146-f34f-416d-a23d-15a4242521fb"
      },
      "outputs": [
        {
          "output_type": "execute_result",
          "data": {
            "text/plain": [
              "array([[0., 0., 0.],\n",
              "       [0., 0., 0.]])"
            ]
          },
          "metadata": {},
          "execution_count": 10
        }
      ],
      "source": [
        "# нулевая\n",
        "np.zeros((2,3))"
      ]
    },
    {
      "cell_type": "markdown",
      "source": [
        "## единичная"
      ],
      "metadata": {
        "id": "9nr7TNnGxZKB"
      }
    },
    {
      "cell_type": "code",
      "execution_count": 11,
      "metadata": {
        "colab": {
          "base_uri": "https://localhost:8080/"
        },
        "id": "vOGbPYBGwSq6",
        "outputId": "8e40e166-8c89-48f7-c410-bb87a5dfd4ed"
      },
      "outputs": [
        {
          "output_type": "execute_result",
          "data": {
            "text/plain": [
              "array([[1., 0., 0.],\n",
              "       [0., 1., 0.],\n",
              "       [0., 0., 1.]])"
            ]
          },
          "metadata": {},
          "execution_count": 11
        }
      ],
      "source": [
        "# единичная\n",
        "np.eye(3)"
      ]
    },
    {
      "cell_type": "markdown",
      "source": [
        "## матрица единиц"
      ],
      "metadata": {
        "id": "jD3RvNc0xgAf"
      }
    },
    {
      "cell_type": "code",
      "execution_count": 12,
      "metadata": {
        "colab": {
          "base_uri": "https://localhost:8080/"
        },
        "id": "FlRYQGF1wSq7",
        "outputId": "fee2bfc6-95fd-40c9-8558-bf4b85f1b3c2"
      },
      "outputs": [
        {
          "output_type": "execute_result",
          "data": {
            "text/plain": [
              "array([[1., 1., 1., 1., 1.],\n",
              "       [1., 1., 1., 1., 1.],\n",
              "       [1., 1., 1., 1., 1.]])"
            ]
          },
          "metadata": {},
          "execution_count": 12
        }
      ],
      "source": [
        "# матрица единиц\n",
        "np.ones((3,5))"
      ]
    },
    {
      "cell_type": "markdown",
      "source": [
        "## диагональная матрица"
      ],
      "metadata": {
        "id": "vv2pdmkoxlxQ"
      }
    },
    {
      "cell_type": "code",
      "execution_count": 13,
      "metadata": {
        "colab": {
          "base_uri": "https://localhost:8080/"
        },
        "id": "z7JAdkaYwSq9",
        "outputId": "eed841fe-6681-496c-8857-90c98016bbe8"
      },
      "outputs": [
        {
          "output_type": "execute_result",
          "data": {
            "text/plain": [
              "array([[1, 0, 0],\n",
              "       [0, 2, 0],\n",
              "       [0, 0, 3]])"
            ]
          },
          "metadata": {},
          "execution_count": 13
        }
      ],
      "source": [
        "# Диагональная\n",
        "diagonal=[1,2,3]\n",
        "np.diag(diagonal)"
      ]
    },
    {
      "cell_type": "markdown",
      "source": [
        "## шаровая"
      ],
      "metadata": {
        "id": "MlZLzEaSxvs5"
      }
    },
    {
      "cell_type": "code",
      "execution_count": 14,
      "metadata": {
        "colab": {
          "base_uri": "https://localhost:8080/"
        },
        "id": "vL77sBOawSq-",
        "outputId": "85baa3ed-b27c-474e-db47-fae4491a4fef"
      },
      "outputs": [
        {
          "output_type": "execute_result",
          "data": {
            "text/plain": [
              "array([[5., 0., 0.],\n",
              "       [0., 5., 0.],\n",
              "       [0., 0., 5.]])"
            ]
          },
          "metadata": {},
          "execution_count": 14
        }
      ],
      "source": [
        "# Шаровая\n",
        "5*np.eye(3)"
      ]
    },
    {
      "cell_type": "markdown",
      "source": [
        "# Операции с матрицами"
      ],
      "metadata": {
        "id": "HgvHLQ0Wx6EW"
      }
    },
    {
      "cell_type": "code",
      "execution_count": 15,
      "metadata": {
        "collapsed": true,
        "id": "GXEshzzcwSq-"
      },
      "outputs": [],
      "source": [
        "A=np.array([[1,1],[2,3],[4,5]])\n",
        "B=np.array([[1,-1],[-2,3],[4,-5]])"
      ]
    },
    {
      "cell_type": "code",
      "execution_count": 16,
      "metadata": {
        "colab": {
          "base_uri": "https://localhost:8080/"
        },
        "id": "Z4oIDxHnwSq_",
        "outputId": "8476a9d1-9dec-4abc-c467-0b71ca4779d3"
      },
      "outputs": [
        {
          "output_type": "execute_result",
          "data": {
            "text/plain": [
              "array([[1, 1],\n",
              "       [2, 3],\n",
              "       [4, 5]])"
            ]
          },
          "metadata": {},
          "execution_count": 16
        }
      ],
      "source": [
        "A"
      ]
    },
    {
      "cell_type": "code",
      "execution_count": 17,
      "metadata": {
        "colab": {
          "base_uri": "https://localhost:8080/"
        },
        "id": "9qrMylf-wSrA",
        "outputId": "7c4244dc-e669-409c-dda3-3cef5d207259"
      },
      "outputs": [
        {
          "output_type": "execute_result",
          "data": {
            "text/plain": [
              "array([[ 1, -1],\n",
              "       [-2,  3],\n",
              "       [ 4, -5]])"
            ]
          },
          "metadata": {},
          "execution_count": 17
        }
      ],
      "source": [
        "B"
      ]
    },
    {
      "cell_type": "markdown",
      "source": [
        "## +, -, *, .T"
      ],
      "metadata": {
        "id": "F1HDz7JkyAwf"
      }
    },
    {
      "cell_type": "code",
      "execution_count": 18,
      "metadata": {
        "colab": {
          "base_uri": "https://localhost:8080/"
        },
        "id": "tKCr4cklwSrB",
        "outputId": "09d603c7-63c0-4352-8235-29ae95b5bfe7"
      },
      "outputs": [
        {
          "output_type": "execute_result",
          "data": {
            "text/plain": [
              "array([[2, 0],\n",
              "       [0, 6],\n",
              "       [8, 0]])"
            ]
          },
          "metadata": {},
          "execution_count": 18
        }
      ],
      "source": [
        "A+B"
      ]
    },
    {
      "cell_type": "code",
      "execution_count": 19,
      "metadata": {
        "colab": {
          "base_uri": "https://localhost:8080/"
        },
        "id": "qMNVxSSCwSrB",
        "outputId": "4ec29036-bc7d-4ab3-f840-ddba35309a40"
      },
      "outputs": [
        {
          "output_type": "execute_result",
          "data": {
            "text/plain": [
              "array([[2, 0],\n",
              "       [0, 6],\n",
              "       [8, 0]])"
            ]
          },
          "metadata": {},
          "execution_count": 19
        }
      ],
      "source": [
        "B+A"
      ]
    },
    {
      "cell_type": "code",
      "execution_count": 20,
      "metadata": {
        "colab": {
          "base_uri": "https://localhost:8080/"
        },
        "id": "X_aIAr10wSrC",
        "outputId": "7ee93a32-0fa2-475a-e008-7afd2105455a"
      },
      "outputs": [
        {
          "output_type": "execute_result",
          "data": {
            "text/plain": [
              "array([[ 0,  2],\n",
              "       [ 4,  0],\n",
              "       [ 0, 10]])"
            ]
          },
          "metadata": {},
          "execution_count": 20
        }
      ],
      "source": [
        "A-B"
      ]
    },
    {
      "cell_type": "code",
      "execution_count": 21,
      "metadata": {
        "colab": {
          "base_uri": "https://localhost:8080/"
        },
        "id": "XxZcaEHVwSrD",
        "outputId": "cde9b1bd-0e25-4a82-e64e-077ec22e5eee"
      },
      "outputs": [
        {
          "output_type": "execute_result",
          "data": {
            "text/plain": [
              "array([[ 2,  2],\n",
              "       [ 4,  6],\n",
              "       [ 8, 10]])"
            ]
          },
          "metadata": {},
          "execution_count": 21
        }
      ],
      "source": [
        "2*A"
      ]
    },
    {
      "cell_type": "code",
      "execution_count": 22,
      "metadata": {
        "colab": {
          "base_uri": "https://localhost:8080/"
        },
        "id": "oC1ilthwwSrE",
        "outputId": "02cf3397-00a3-43d9-9b03-cec0ed99a6d6"
      },
      "outputs": [
        {
          "output_type": "execute_result",
          "data": {
            "text/plain": [
              "array([[1, 2, 4],\n",
              "       [1, 3, 5]])"
            ]
          },
          "metadata": {},
          "execution_count": 22
        }
      ],
      "source": [
        "A.T"
      ]
    },
    {
      "cell_type": "markdown",
      "source": [
        "# Транспонирование вектора"
      ],
      "metadata": {
        "id": "chpUQpAxyWL9"
      }
    },
    {
      "cell_type": "code",
      "execution_count": 23,
      "metadata": {
        "colab": {
          "base_uri": "https://localhost:8080/"
        },
        "id": "ADQ3qq8bwSrF",
        "outputId": "a6a10d9d-c6f3-4e77-9cb0-d59cdbc160c4"
      },
      "outputs": [
        {
          "output_type": "execute_result",
          "data": {
            "text/plain": [
              "array([1, 2, 3])"
            ]
          },
          "metadata": {},
          "execution_count": 23
        }
      ],
      "source": [
        "# как транспонировать вектор?\n",
        "x=np.array([1,2,3])\n",
        "x.T"
      ]
    },
    {
      "cell_type": "code",
      "execution_count": 24,
      "metadata": {
        "colab": {
          "base_uri": "https://localhost:8080/"
        },
        "id": "CO85RD3UwSrG",
        "outputId": "e3472ec6-e45b-48ed-e35b-0e2e9fd246b0"
      },
      "outputs": [
        {
          "output_type": "stream",
          "name": "stdout",
          "text": [
            "[[1]\n",
            " [2]\n",
            " [3]]\n",
            "(3, 1)\n"
          ]
        }
      ],
      "source": [
        "x_col=np.reshape(x,(3,1))\n",
        "print(x_col)\n",
        "print(np.shape(x_col))"
      ]
    },
    {
      "cell_type": "code",
      "execution_count": 25,
      "metadata": {
        "colab": {
          "base_uri": "https://localhost:8080/"
        },
        "id": "6ak1mc5-wSrH",
        "outputId": "cd152256-a890-4659-c023-d396bc8bd786"
      },
      "outputs": [
        {
          "output_type": "execute_result",
          "data": {
            "text/plain": [
              "array([[1, 2, 3]])"
            ]
          },
          "metadata": {},
          "execution_count": 25
        }
      ],
      "source": [
        "x_col.T"
      ]
    },
    {
      "cell_type": "code",
      "execution_count": 26,
      "metadata": {
        "colab": {
          "base_uri": "https://localhost:8080/"
        },
        "id": "y2HUcHuWwSrI",
        "outputId": "7331b5be-7595-477e-c035-a996cb6639e6"
      },
      "outputs": [
        {
          "output_type": "stream",
          "name": "stdout",
          "text": [
            "(3,)\n",
            "(3, 1)\n",
            "(1, 3)\n"
          ]
        }
      ],
      "source": [
        "print(np.shape(x))\n",
        "print(np.shape(x_col))\n",
        "print(np.shape(x_col.T))"
      ]
    },
    {
      "cell_type": "markdown",
      "source": [
        "# Практика\n"
      ],
      "metadata": {
        "id": "cN5n33p7yuTk"
      }
    },
    {
      "cell_type": "markdown",
      "metadata": {
        "id": "wjTTXjsmwSrI"
      },
      "source": [
        "Данные по доходам и расходам каждого члена семьи Ивановых записаны в одномерные массивы numpy:"
      ]
    },
    {
      "cell_type": "code",
      "execution_count": 27,
      "metadata": {
        "collapsed": true,
        "id": "PI-rJPkywSrN"
      },
      "outputs": [],
      "source": [
        "import numpy as np\n",
        "\n",
        "Husband_Income = np.array([100,220,140])\n",
        "Wife_Income = np.array([150,200,130])\n",
        "Mother_In_Law_Income = np.array([90,80,100])\n",
        "\n",
        "Husband_Consumption = np.array([50,50,60])\n",
        "Wife_Consumption = np.array([100,80,140])\n",
        "Mother_In_Law_Consumption = np.array([100,20,140])"
      ]
    },
    {
      "cell_type": "markdown",
      "metadata": {
        "id": "uSziJun3wSrN"
      },
      "source": [
        "Составьте матрицу Inc доходов семьи, расположив доходы мужа, жены и тёщи в первый, второй и третий столбцы матрицы."
      ]
    },
    {
      "cell_type": "code",
      "execution_count": 28,
      "metadata": {
        "colab": {
          "base_uri": "https://localhost:8080/"
        },
        "id": "txfVcVc0wSrO",
        "outputId": "e95ed3df-3594-4926-b5da-5f6a43c3496b"
      },
      "outputs": [
        {
          "output_type": "execute_result",
          "data": {
            "text/plain": [
              "array([[0., 0., 0.],\n",
              "       [0., 0., 0.],\n",
              "       [0., 0., 0.]])"
            ]
          },
          "metadata": {},
          "execution_count": 28
        }
      ],
      "source": [
        "Inc = np.zeros((3,3))\n",
        "Inc\n"
      ]
    },
    {
      "cell_type": "code",
      "execution_count": 29,
      "metadata": {
        "colab": {
          "base_uri": "https://localhost:8080/"
        },
        "id": "q-_sOYYwwSrP",
        "outputId": "a5cccbde-019d-4a6a-960d-40707f370159"
      },
      "outputs": [
        {
          "output_type": "execute_result",
          "data": {
            "text/plain": [
              "array([[100., 220., 140.],\n",
              "       [150., 200., 130.],\n",
              "       [ 90.,  80., 100.]])"
            ]
          },
          "metadata": {},
          "execution_count": 29
        }
      ],
      "source": [
        "Inc[0] = Husband_Income\n",
        "Inc[1] = Wife_Income\n",
        "Inc[2] = Mother_In_Law_Income\n",
        "Inc"
      ]
    },
    {
      "cell_type": "code",
      "execution_count": 30,
      "metadata": {
        "colab": {
          "base_uri": "https://localhost:8080/"
        },
        "id": "tC4Sk29-wSrQ",
        "outputId": "0ff93b92-a05f-4150-ba01-875bfcc4786e"
      },
      "outputs": [
        {
          "output_type": "execute_result",
          "data": {
            "text/plain": [
              "array([[100., 150.,  90.],\n",
              "       [220., 200.,  80.],\n",
              "       [140., 130., 100.]])"
            ]
          },
          "metadata": {},
          "execution_count": 30
        }
      ],
      "source": [
        "IncT = Inc.T\n",
        "IncT"
      ]
    },
    {
      "cell_type": "markdown",
      "metadata": {
        "id": "VV70dmaMwSrR"
      },
      "source": [
        "Составьте матрицу Cons расходов семьи, расположив расходы мужа, жены и тёщи в первый, второй и третий столбцы."
      ]
    },
    {
      "cell_type": "code",
      "execution_count": 31,
      "metadata": {
        "colab": {
          "base_uri": "https://localhost:8080/"
        },
        "id": "IZKjOQ4twSrS",
        "outputId": "0154d9da-d1e0-41c0-ece3-cff120b5eaba"
      },
      "outputs": [
        {
          "output_type": "execute_result",
          "data": {
            "text/plain": [
              "array([[ 50., 100., 100.],\n",
              "       [ 50.,  80.,  20.],\n",
              "       [ 60., 140., 140.]])"
            ]
          },
          "metadata": {},
          "execution_count": 31
        }
      ],
      "source": [
        "Cons = np.zeros((3,3))\n",
        "Cons[0] = Husband_Consumption\n",
        "Cons[1] = Wife_Consumption\n",
        "Cons[2] = Mother_In_Law_Consumption\n",
        "Cons.T"
      ]
    },
    {
      "cell_type": "markdown",
      "metadata": {
        "id": "dVNDFz2ewSrU"
      },
      "source": [
        "Доходы представлены до уплаты налогов. Налоговая ставка — 13 %. Вычислите матрицу доходов семьи Ивановых после уплаты налогов."
      ]
    },
    {
      "cell_type": "code",
      "execution_count": 32,
      "metadata": {
        "id": "BPLqrRXnwSrU"
      },
      "outputs": [],
      "source": [
        "IncT_13 = IncT*0.87"
      ]
    },
    {
      "cell_type": "code",
      "execution_count": 33,
      "metadata": {
        "colab": {
          "base_uri": "https://localhost:8080/"
        },
        "id": "faB7Eq55wSrV",
        "outputId": "8a649b32-bc82-4008-cbb6-139ef6e94f57"
      },
      "outputs": [
        {
          "output_type": "execute_result",
          "data": {
            "text/plain": [
              "array([[ 87. , 130.5,  78.3],\n",
              "       [191.4, 174. ,  69.6],\n",
              "       [121.8, 113.1,  87. ]])"
            ]
          },
          "metadata": {},
          "execution_count": 33
        }
      ],
      "source": [
        "IncT_13"
      ]
    },
    {
      "cell_type": "markdown",
      "metadata": {
        "id": "R1rtIR4awSrV"
      },
      "source": [
        "Вычислите матрицу T , которая покажет баланс семьи Ивановых за один месяц (то есть разницу между доходами после вычета налога и расходами)."
      ]
    },
    {
      "cell_type": "code",
      "execution_count": 34,
      "metadata": {
        "colab": {
          "base_uri": "https://localhost:8080/"
        },
        "id": "aYWD2PEXwSrs",
        "outputId": "d4953a4d-3be7-4ac9-b827-c04c1e39255b"
      },
      "outputs": [
        {
          "output_type": "execute_result",
          "data": {
            "text/plain": [
              "array([[ 37. ,  30.5, -21.7],\n",
              "       [141.4,  94. ,  49.6],\n",
              "       [ 61.8, -26.9, -53. ]])"
            ]
          },
          "metadata": {},
          "execution_count": 34
        }
      ],
      "source": [
        "T = IncT_13 - Cons.T\n",
        "T"
      ]
    }
  ],
  "metadata": {
    "kernelspec": {
      "display_name": "Python 3.9.7 ('base')",
      "language": "python",
      "name": "python3"
    },
    "language_info": {
      "codemirror_mode": {
        "name": "ipython",
        "version": 3
      },
      "file_extension": ".py",
      "mimetype": "text/x-python",
      "name": "python",
      "nbconvert_exporter": "python",
      "pygments_lexer": "ipython3",
      "version": "3.9.7"
    },
    "vscode": {
      "interpreter": {
        "hash": "1448b48b023bcc9c3d4a79e814720a10ca6d4244f75e0f7ce4af58f96ba2b7d3"
      }
    },
    "colab": {
      "provenance": [],
      "toc_visible": true,
      "include_colab_link": true
    }
  },
  "nbformat": 4,
  "nbformat_minor": 0
}