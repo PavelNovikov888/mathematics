{
  "cells": [
    {
      "cell_type": "markdown",
      "metadata": {
        "id": "view-in-github",
        "colab_type": "text"
      },
      "source": [
        "<a href=\"https://colab.research.google.com/github/PavelNovikov888/mathematics/blob/master/%D0%9F%D1%80%D0%BE%D0%B8%D0%B7%D0%B2%D0%B5%D0%B4%D0%B5%D0%BD%D0%B8%D0%B5_%D0%BC%D0%B0%D1%82%D1%80%D0%B8%D1%86.ipynb\" target=\"_parent\"><img src=\"https://colab.research.google.com/assets/colab-badge.svg\" alt=\"Open In Colab\"/></a>"
      ]
    },
    {
      "cell_type": "code",
      "execution_count": 1,
      "metadata": {
        "collapsed": true,
        "id": "-mamPqWGz3iu"
      },
      "outputs": [],
      "source": [
        "import numpy as np"
      ]
    },
    {
      "cell_type": "markdown",
      "source": [
        "# Произведение матриц"
      ],
      "metadata": {
        "id": "YLDSkxO91495"
      }
    },
    {
      "cell_type": "code",
      "execution_count": 2,
      "metadata": {
        "collapsed": true,
        "id": "COb1wtlqz3i2"
      },
      "outputs": [],
      "source": [
        "# произведение матриц\n",
        "A=np.random.randint(5, 12, (3,3))\n",
        "B=np.random.randint(-2, 4, (3,3))"
      ]
    },
    {
      "cell_type": "code",
      "execution_count": 3,
      "metadata": {
        "colab": {
          "base_uri": "https://localhost:8080/"
        },
        "id": "OEpKzNUVz3i4",
        "outputId": "2adbeee7-dcfa-4169-a0ed-2ca38eec3413"
      },
      "outputs": [
        {
          "output_type": "execute_result",
          "data": {
            "text/plain": [
              "array([[ 7,  6, 11],\n",
              "       [ 5,  8, 10],\n",
              "       [ 7,  9,  8]])"
            ]
          },
          "metadata": {},
          "execution_count": 3
        }
      ],
      "source": [
        "A"
      ]
    },
    {
      "cell_type": "code",
      "execution_count": 4,
      "metadata": {
        "colab": {
          "base_uri": "https://localhost:8080/"
        },
        "id": "AtJjtEvVz3i5",
        "outputId": "0ce12b8b-37b3-4bfd-de80-ca73048af7dd"
      },
      "outputs": [
        {
          "output_type": "execute_result",
          "data": {
            "text/plain": [
              "array([[-2,  2, -2],\n",
              "       [ 0,  3, -1],\n",
              "       [-1,  3,  1]])"
            ]
          },
          "metadata": {},
          "execution_count": 4
        }
      ],
      "source": [
        "B"
      ]
    },
    {
      "cell_type": "markdown",
      "source": [
        "## Поэлементное умножение"
      ],
      "metadata": {
        "id": "wRcfKfAQ2C94"
      }
    },
    {
      "cell_type": "code",
      "execution_count": 5,
      "metadata": {
        "colab": {
          "base_uri": "https://localhost:8080/"
        },
        "id": "cDSRTolJz3i6",
        "outputId": "4f85255a-616a-42e4-f3a0-350b1527e6a4"
      },
      "outputs": [
        {
          "output_type": "execute_result",
          "data": {
            "text/plain": [
              "array([[-14,  12, -22],\n",
              "       [  0,  24, -10],\n",
              "       [ -7,  27,   8]])"
            ]
          },
          "metadata": {},
          "execution_count": 5
        }
      ],
      "source": [
        "# Поэлементное умножение\n",
        "A*B"
      ]
    },
    {
      "cell_type": "markdown",
      "source": [
        "## Тип np.matrix"
      ],
      "metadata": {
        "id": "cfBLqAM02PIZ"
      }
    },
    {
      "cell_type": "code",
      "execution_count": 6,
      "metadata": {
        "colab": {
          "base_uri": "https://localhost:8080/"
        },
        "id": "2JxIpfcAz3i7",
        "outputId": "486cf83c-8263-4699-ed19-db2bc50a8c6a"
      },
      "outputs": [
        {
          "output_type": "stream",
          "name": "stdout",
          "text": [
            "[[-25  65  -9]\n",
            " [-20  64  -8]\n",
            " [-22  65 -15]]\n"
          ]
        }
      ],
      "source": [
        "# тип np.matrix\n",
        "A_m=np.matrix(A)\n",
        "B_m=np.matrix(B)\n",
        "print(A_m*B_m)"
      ]
    },
    {
      "cell_type": "markdown",
      "source": [
        "## Матричное умножение"
      ],
      "metadata": {
        "id": "PeaGvhtS2XL1"
      }
    },
    {
      "cell_type": "code",
      "execution_count": 7,
      "metadata": {
        "colab": {
          "base_uri": "https://localhost:8080/"
        },
        "id": "T-zD9m2Hz3i8",
        "outputId": "f6859d98-647a-437c-aab5-bf535d64dbc4"
      },
      "outputs": [
        {
          "output_type": "execute_result",
          "data": {
            "text/plain": [
              "array([[-25,  65,  -9],\n",
              "       [-20,  64,  -8],\n",
              "       [-22,  65, -15]])"
            ]
          },
          "metadata": {},
          "execution_count": 7
        }
      ],
      "source": [
        "# Матричное умножение\n",
        "np.dot(A,B)"
      ]
    },
    {
      "cell_type": "code",
      "execution_count": 8,
      "metadata": {
        "colab": {
          "base_uri": "https://localhost:8080/"
        },
        "id": "zh67ND0Zz3i8",
        "outputId": "09f79c2d-d3ae-41be-ca6f-1b2335b01b4c"
      },
      "outputs": [
        {
          "output_type": "execute_result",
          "data": {
            "text/plain": [
              "array([[-25,  65,  -9],\n",
              "       [-20,  64,  -8],\n",
              "       [-22,  65, -15]])"
            ]
          },
          "metadata": {},
          "execution_count": 8
        }
      ],
      "source": [
        "# Матричное умножение\n",
        "A@B"
      ]
    },
    {
      "cell_type": "markdown",
      "source": [
        "## Правила умножения и прмимеры"
      ],
      "metadata": {
        "id": "xlQCHOjh2gnc"
      }
    },
    {
      "cell_type": "code",
      "execution_count": 9,
      "metadata": {
        "colab": {
          "base_uri": "https://localhost:8080/"
        },
        "id": "oEGsQQX9z3i-",
        "outputId": "3db51f6b-b7e6-4b8b-88dd-5bc3868bb5da"
      },
      "outputs": [
        {
          "output_type": "execute_result",
          "data": {
            "text/plain": [
              "array([[-18, -14, -18],\n",
              "       [  8,  15,  22],\n",
              "       [ 15,  27,  27]])"
            ]
          },
          "metadata": {},
          "execution_count": 9
        }
      ],
      "source": [
        "# Порядок умножения AB != BA\n",
        "B@A"
      ]
    },
    {
      "cell_type": "code",
      "execution_count": 10,
      "metadata": {
        "colab": {
          "base_uri": "https://localhost:8080/"
        },
        "id": "HnvpgenYz3i_",
        "outputId": "2791520b-18e7-4b0f-9c82-1a789897b8c8"
      },
      "outputs": [
        {
          "output_type": "stream",
          "name": "stdout",
          "text": [
            "A:\n",
            " [[ 5  9  7  8  6]\n",
            " [ 5  9 11  7 10]\n",
            " [11  8  8  6 11]]\n",
            "B:\n",
            " [[-2  3]\n",
            " [ 2 -1]\n",
            " [ 1 -2]\n",
            " [-2 -1]\n",
            " [-2  0]]\n"
          ]
        }
      ],
      "source": [
        "# Умножение прямоугольных матриц возможно не в любом порядке\n",
        "A=np.random.randint(5, 12, (3,5))\n",
        "B=np.random.randint(-2, 4, (5,2))\n",
        "print('A:\\n',A)\n",
        "print('B:\\n',B)"
      ]
    },
    {
      "cell_type": "code",
      "execution_count": 11,
      "metadata": {
        "colab": {
          "base_uri": "https://localhost:8080/"
        },
        "id": "OOX51iRgz3jA",
        "outputId": "1bcb8193-664f-49b4-e7c8-67340e403bfc"
      },
      "outputs": [
        {
          "output_type": "execute_result",
          "data": {
            "text/plain": [
              "array([[-13, -16],\n",
              "       [-15, -23],\n",
              "       [-32,   3]])"
            ]
          },
          "metadata": {},
          "execution_count": 11
        }
      ],
      "source": [
        "# Умножение прямоугольных матриц возможно не в любом порядке\n",
        "A@B"
      ]
    },
    {
      "cell_type": "code",
      "execution_count": 12,
      "metadata": {
        "colab": {
          "base_uri": "https://localhost:8080/",
          "height": 192
        },
        "id": "JtQtt3tLz3jB",
        "outputId": "91381c49-85e3-4e55-dedf-cd04a49dffed"
      },
      "outputs": [
        {
          "output_type": "error",
          "ename": "ValueError",
          "evalue": "ignored",
          "traceback": [
            "\u001b[0;31m---------------------------------------------------------------------------\u001b[0m",
            "\u001b[0;31mValueError\u001b[0m                                Traceback (most recent call last)",
            "\u001b[0;32m<ipython-input-12-776a30abbcf0>\u001b[0m in \u001b[0;36m<cell line: 2>\u001b[0;34m()\u001b[0m\n\u001b[1;32m      1\u001b[0m \u001b[0;31m# Умножение прямоугольных матриц возможно не в любом порядке\u001b[0m\u001b[0;34m\u001b[0m\u001b[0;34m\u001b[0m\u001b[0m\n\u001b[0;32m----> 2\u001b[0;31m \u001b[0mB\u001b[0m\u001b[0;34m@\u001b[0m\u001b[0mA\u001b[0m\u001b[0;34m\u001b[0m\u001b[0;34m\u001b[0m\u001b[0m\n\u001b[0m",
            "\u001b[0;31mValueError\u001b[0m: matmul: Input operand 1 has a mismatch in its core dimension 0, with gufunc signature (n?,k),(k,m?)->(n?,m?) (size 3 is different from 2)"
          ]
        }
      ],
      "source": [
        "# Умножение прямоугольных матриц возможно не в любом порядке\n",
        "B@A"
      ]
    },
    {
      "cell_type": "markdown",
      "source": [
        "# Размер произведения матриц"
      ],
      "metadata": {
        "id": "iecWTYXF2t7M"
      }
    },
    {
      "cell_type": "code",
      "execution_count": 13,
      "metadata": {
        "colab": {
          "base_uri": "https://localhost:8080/"
        },
        "id": "smVQ0yREz3jD",
        "outputId": "8628b018-0a2e-41b4-cc48-5a2e4b418ea5"
      },
      "outputs": [
        {
          "output_type": "stream",
          "name": "stdout",
          "text": [
            "shape of A: (3, 5)\n",
            "shape of B: (5, 2)\n",
            "shape of AB: (3, 2)\n"
          ]
        }
      ],
      "source": [
        "# размер произведения матриц\n",
        "print('shape of A:', np.shape(A))\n",
        "print('shape of B:', np.shape(B))\n",
        "print('shape of AB:', np.shape(A@B))"
      ]
    },
    {
      "cell_type": "markdown",
      "source": [
        "# Умножение на специальные матрицы"
      ],
      "metadata": {
        "id": "FxLGsWlQ205x"
      }
    },
    {
      "cell_type": "code",
      "execution_count": 14,
      "metadata": {
        "colab": {
          "base_uri": "https://localhost:8080/"
        },
        "id": "CSOmiKe0z3jD",
        "outputId": "2aa5a679-44fe-43e6-fdd2-6f0df36b494b"
      },
      "outputs": [
        {
          "output_type": "stream",
          "name": "stdout",
          "text": [
            "A:\n",
            " [[-1 -4 -3  3]\n",
            " [-3  2 -1  2]\n",
            " [ 0 -1  2  3]\n",
            " [-2  3  2  0]]\n",
            "D:\n",
            " [[ 1  0  0  0]\n",
            " [ 0  2  0  0]\n",
            " [ 0  0  0  0]\n",
            " [ 0  0  0 -1]]\n",
            "AD:\n",
            " [[-1 -8  0 -3]\n",
            " [-3  4  0 -2]\n",
            " [ 0 -2  0 -3]\n",
            " [-2  6  0  0]]\n",
            "DA:\n",
            " [[-1 -4 -3  3]\n",
            " [-6  4 -2  4]\n",
            " [ 0  0  0  0]\n",
            " [ 2 -3 -2  0]]\n"
          ]
        }
      ],
      "source": [
        "# умножение на специальные матрицы\n",
        "A=np.random.randint(-4, 4, (4,4))\n",
        "D=np.diag([1,2,0,-1])\n",
        "print('A:\\n',A)\n",
        "print('D:\\n',D)\n",
        "print('AD:\\n',A@D)\n",
        "print('DA:\\n',D@A)"
      ]
    },
    {
      "cell_type": "markdown",
      "source": [
        "## Умножение на одномерный массив numpy"
      ],
      "metadata": {
        "id": "8U7vNjy625hr"
      }
    },
    {
      "cell_type": "code",
      "execution_count": 15,
      "metadata": {
        "colab": {
          "base_uri": "https://localhost:8080/"
        },
        "id": "gPGorSwZz3jE",
        "outputId": "920aff1f-d091-4289-b510-3e73d9dc46ee"
      },
      "outputs": [
        {
          "output_type": "execute_result",
          "data": {
            "text/plain": [
              "array([2, 6])"
            ]
          },
          "metadata": {},
          "execution_count": 15
        }
      ],
      "source": [
        "# умножение на одномерный массив numpy\n",
        "A=np.array([[1,0,1],[1,1,1]])\n",
        "b=np.array([-3,4,5])\n",
        "A@b"
      ]
    },
    {
      "cell_type": "code",
      "execution_count": 16,
      "metadata": {
        "colab": {
          "base_uri": "https://localhost:8080/",
          "height": 175
        },
        "id": "xOpsnRGRz3jG",
        "outputId": "ea7db637-12ce-4798-ceb3-fb6229d96842"
      },
      "outputs": [
        {
          "output_type": "error",
          "ename": "ValueError",
          "evalue": "ignored",
          "traceback": [
            "\u001b[0;31m---------------------------------------------------------------------------\u001b[0m",
            "\u001b[0;31mValueError\u001b[0m                                Traceback (most recent call last)",
            "\u001b[0;32m<ipython-input-16-147a26b1db13>\u001b[0m in \u001b[0;36m<cell line: 1>\u001b[0;34m()\u001b[0m\n\u001b[0;32m----> 1\u001b[0;31m \u001b[0mb\u001b[0m\u001b[0;34m@\u001b[0m\u001b[0mA\u001b[0m\u001b[0;34m\u001b[0m\u001b[0;34m\u001b[0m\u001b[0m\n\u001b[0m",
            "\u001b[0;31mValueError\u001b[0m: matmul: Input operand 1 has a mismatch in its core dimension 0, with gufunc signature (n?,k),(k,m?)->(n?,m?) (size 2 is different from 3)"
          ]
        }
      ],
      "source": [
        "b@A"
      ]
    },
    {
      "cell_type": "markdown",
      "source": [
        "# Матрица Грама"
      ],
      "metadata": {
        "id": "8HZUtXMt3GYB"
      }
    },
    {
      "cell_type": "code",
      "execution_count": 17,
      "metadata": {
        "colab": {
          "base_uri": "https://localhost:8080/"
        },
        "id": "OLv1Lw_cz3jH",
        "outputId": "36d32d80-4d2b-4277-cc2a-81433f12cb97"
      },
      "outputs": [
        {
          "output_type": "stream",
          "name": "stdout",
          "text": [
            "[[ 1  1  1]\n",
            " [ 1  0 -1]\n",
            " [-1  2 -1]] <class 'numpy.ndarray'>\n"
          ]
        }
      ],
      "source": [
        "# матрица Грама ортогональной системы векторов\n",
        "x=np.array([1,1,1])\n",
        "y=np.array([1,0,-1])\n",
        "z=np.array([-1,2,-1])\n",
        "A=np.array([x,y,z])\n",
        "print (A, type(A))"
      ]
    },
    {
      "cell_type": "code",
      "execution_count": 18,
      "metadata": {
        "colab": {
          "base_uri": "https://localhost:8080/"
        },
        "id": "kpQFXqdez3jH",
        "outputId": "14c5c4ff-4cf2-46eb-98dc-21280762b66c"
      },
      "outputs": [
        {
          "output_type": "execute_result",
          "data": {
            "text/plain": [
              "array([[3, 0, 0],\n",
              "       [0, 2, 0],\n",
              "       [0, 0, 6]])"
            ]
          },
          "metadata": {},
          "execution_count": 18
        }
      ],
      "source": [
        "# матрица Грама ортогональной системы векторов\n",
        "A@A.T"
      ]
    },
    {
      "cell_type": "code",
      "execution_count": 19,
      "metadata": {
        "colab": {
          "base_uri": "https://localhost:8080/"
        },
        "id": "pV9vEov3z3jI",
        "outputId": "0a937720-d306-43b7-9ef1-85b71ccd2eb3"
      },
      "outputs": [
        {
          "output_type": "stream",
          "name": "stdout",
          "text": [
            "[[ 0.57735027  0.57735027  0.57735027]\n",
            " [ 0.70710678  0.         -0.70710678]\n",
            " [-0.40824829  0.81649658 -0.40824829]] <class 'numpy.ndarray'>\n"
          ]
        }
      ],
      "source": [
        "# матрица Грама ортонормированной системы векторов\n",
        "x_norm=x/np.linalg.norm(x)\n",
        "y_norm=y/np.linalg.norm(y)\n",
        "z_norm=z/np.linalg.norm(z)\n",
        "A_norm=np.array([x_norm,y_norm,z_norm])\n",
        "print (A_norm, type(A_norm))"
      ]
    },
    {
      "cell_type": "code",
      "execution_count": 20,
      "metadata": {
        "colab": {
          "base_uri": "https://localhost:8080/"
        },
        "id": "wo41Axrhz3jJ",
        "outputId": "6d1691be-0469-4834-96d2-f2786ee28e93"
      },
      "outputs": [
        {
          "output_type": "execute_result",
          "data": {
            "text/plain": [
              "array([[ 1.00000000e+00, -1.77961928e-17,  1.66584120e-17],\n",
              "       [-1.77961928e-17,  1.00000000e+00, -2.45142679e-17],\n",
              "       [ 1.66584120e-17, -2.45142679e-17,  1.00000000e+00]])"
            ]
          },
          "metadata": {},
          "execution_count": 20
        }
      ],
      "source": [
        "# матрица Грама ортонормированной системы векторов\n",
        "A_norm@A_norm.T"
      ]
    },
    {
      "cell_type": "code",
      "execution_count": 21,
      "metadata": {
        "colab": {
          "base_uri": "https://localhost:8080/"
        },
        "id": "UtClgXkXz3jJ",
        "outputId": "801549fa-f46c-4cd4-f691-5f50c626ae8a"
      },
      "outputs": [
        {
          "output_type": "execute_result",
          "data": {
            "text/plain": [
              "array([[ 1., -0.,  0.],\n",
              "       [-0.,  1., -0.],\n",
              "       [ 0., -0.,  1.]])"
            ]
          },
          "metadata": {},
          "execution_count": 21
        }
      ],
      "source": [
        "# ортонормированные системы рулят! :)\n",
        "np.round(A_norm@A_norm.T,1)"
      ]
    }
  ],
  "metadata": {
    "kernelspec": {
      "display_name": "Python 3",
      "language": "python",
      "name": "python3"
    },
    "language_info": {
      "codemirror_mode": {
        "name": "ipython",
        "version": 3
      },
      "file_extension": ".py",
      "mimetype": "text/x-python",
      "name": "python",
      "nbconvert_exporter": "python",
      "pygments_lexer": "ipython3",
      "version": "3.6.0"
    },
    "colab": {
      "provenance": [],
      "toc_visible": true,
      "include_colab_link": true
    }
  },
  "nbformat": 4,
  "nbformat_minor": 0
}