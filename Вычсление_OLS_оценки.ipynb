{
  "nbformat": 4,
  "nbformat_minor": 0,
  "metadata": {
    "colab": {
      "provenance": [],
      "authorship_tag": "ABX9TyNnwclLpVI27fOsQZX/bPXC",
      "include_colab_link": true
    },
    "kernelspec": {
      "name": "python3",
      "display_name": "Python 3"
    },
    "language_info": {
      "name": "python"
    }
  },
  "cells": [
    {
      "cell_type": "markdown",
      "metadata": {
        "id": "view-in-github",
        "colab_type": "text"
      },
      "source": [
        "<a href=\"https://colab.research.google.com/github/PavelNovikov888/mathematics/blob/master/%D0%92%D1%8B%D1%87%D1%81%D0%BB%D0%B5%D0%BD%D0%B8%D0%B5_OLS_%D0%BE%D1%86%D0%B5%D0%BD%D0%BA%D0%B8.ipynb\" target=\"_parent\"><img src=\"https://colab.research.google.com/assets/colab-badge.svg\" alt=\"Open In Colab\"/></a>"
      ]
    },
    {
      "cell_type": "code",
      "execution_count": 1,
      "metadata": {
        "id": "fRZdVUnDdl0b"
      },
      "outputs": [],
      "source": [
        "import numpy as np"
      ]
    },
    {
      "cell_type": "markdown",
      "source": [
        "# Найти OLS - оценку для коэфф w1, w2  \n",
        "b^ = ((A^T*A)^-1)*A^T*b"
      ],
      "metadata": {
        "id": "Xq9ojuKleFNT"
      }
    },
    {
      "cell_type": "code",
      "source": [
        "A=np.array([[1,2],[-3,1],[1,2],[1,-1]])\n",
        "A"
      ],
      "metadata": {
        "colab": {
          "base_uri": "https://localhost:8080/"
        },
        "id": "78qoAkqvdq4N",
        "outputId": "6af9ee6d-fe02-4778-e190-5ea4d54db97a"
      },
      "execution_count": 3,
      "outputs": [
        {
          "output_type": "execute_result",
          "data": {
            "text/plain": [
              "array([[ 1,  2],\n",
              "       [-3,  1],\n",
              "       [ 1,  2],\n",
              "       [ 1, -1]])"
            ]
          },
          "metadata": {},
          "execution_count": 3
        }
      ]
    },
    {
      "cell_type": "markdown",
      "source": [
        "1.Вычислим матрицу Грама столбцов А"
      ],
      "metadata": {
        "id": "6OZ1U3RnehiD"
      }
    },
    {
      "cell_type": "code",
      "source": [
        "G = A.T@A\n",
        "G"
      ],
      "metadata": {
        "colab": {
          "base_uri": "https://localhost:8080/"
        },
        "id": "QOFb5Lwpegxm",
        "outputId": "f9123b41-1955-4e7c-9010-278a502707cd"
      },
      "execution_count": 5,
      "outputs": [
        {
          "output_type": "execute_result",
          "data": {
            "text/plain": [
              "array([[12,  0],\n",
              "       [ 0, 10]])"
            ]
          },
          "metadata": {},
          "execution_count": 5
        }
      ]
    },
    {
      "cell_type": "markdown",
      "source": [
        "2.Найдем обратную матрицу (A^T*A)^-1"
      ],
      "metadata": {
        "id": "N6CmOBPOgLTv"
      }
    },
    {
      "cell_type": "code",
      "source": [
        "# обратная матрица - все ок\n",
        "G_inv=np.linalg.inv(G)\n",
        "print('G inversed:\\n',G_inv)"
      ],
      "metadata": {
        "colab": {
          "base_uri": "https://localhost:8080/"
        },
        "id": "eDQB7DbvgXaB",
        "outputId": "567cc0d6-4810-4c07-b672-9872126bab5a"
      },
      "execution_count": 7,
      "outputs": [
        {
          "output_type": "stream",
          "name": "stdout",
          "text": [
            "G inversed:\n",
            " [[0.08333333 0.        ]\n",
            " [0.         0.1       ]]\n"
          ]
        }
      ]
    },
    {
      "cell_type": "markdown",
      "source": [
        "3.Вычислим A^T*b"
      ],
      "metadata": {
        "id": "QnbLGPXGg_B7"
      }
    },
    {
      "cell_type": "code",
      "source": [
        "b = np.array([1,4,5,0]).T\n",
        "b_roof = np.dot(A.T,b)\n",
        "b_roof"
      ],
      "metadata": {
        "colab": {
          "base_uri": "https://localhost:8080/"
        },
        "id": "68mzq5kqhKQl",
        "outputId": "0ae6932b-90d5-4773-e5aa-32c32e8ccbee"
      },
      "execution_count": 8,
      "outputs": [
        {
          "output_type": "execute_result",
          "data": {
            "text/plain": [
              "array([-6, 16])"
            ]
          },
          "metadata": {},
          "execution_count": 8
        }
      ]
    },
    {
      "cell_type": "markdown",
      "source": [
        "4.Вычислим вектор оценок коэффициентов w"
      ],
      "metadata": {
        "id": "-yyhng5Ph-AJ"
      }
    },
    {
      "cell_type": "code",
      "source": [
        "w_roof = np.dot(G_inv, b_roof)\n",
        "w_roof"
      ],
      "metadata": {
        "colab": {
          "base_uri": "https://localhost:8080/"
        },
        "id": "MxycUbYChbgS",
        "outputId": "8e36bf2e-8855-4ed0-dc6b-43eb9720492d"
      },
      "execution_count": 10,
      "outputs": [
        {
          "output_type": "execute_result",
          "data": {
            "text/plain": [
              "array([-0.5,  1.6])"
            ]
          },
          "metadata": {},
          "execution_count": 10
        }
      ]
    }
  ]
}