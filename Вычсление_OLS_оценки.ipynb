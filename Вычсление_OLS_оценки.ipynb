{
  "nbformat": 4,
  "nbformat_minor": 0,
  "metadata": {
    "colab": {
      "provenance": [],
      "toc_visible": true,
      "authorship_tag": "ABX9TyNJc0ln0IvfnwzzQz/V9E/l",
      "include_colab_link": true
    },
    "kernelspec": {
      "name": "python3",
      "display_name": "Python 3"
    },
    "language_info": {
      "name": "python"
    }
  },
  "cells": [
    {
      "cell_type": "markdown",
      "metadata": {
        "id": "view-in-github",
        "colab_type": "text"
      },
      "source": [
        "<a href=\"https://colab.research.google.com/github/PavelNovikov888/mathematics/blob/master/%D0%92%D1%8B%D1%87%D1%81%D0%BB%D0%B5%D0%BD%D0%B8%D0%B5_OLS_%D0%BE%D1%86%D0%B5%D0%BD%D0%BA%D0%B8.ipynb\" target=\"_parent\"><img src=\"https://colab.research.google.com/assets/colab-badge.svg\" alt=\"Open In Colab\"/></a>"
      ]
    },
    {
      "cell_type": "code",
      "execution_count": null,
      "metadata": {
        "id": "fRZdVUnDdl0b"
      },
      "outputs": [],
      "source": [
        "import numpy as np"
      ]
    },
    {
      "cell_type": "markdown",
      "source": [
        "# Найти OLS - оценку для коэфф w1, w2  \n",
        "b^ = ((A^T*A)^-1)*A^T*b"
      ],
      "metadata": {
        "id": "Xq9ojuKleFNT"
      }
    },
    {
      "cell_type": "code",
      "source": [
        "A=np.array([[1,2],[-3,1],[1,2],[1,-1]])\n",
        "A"
      ],
      "metadata": {
        "colab": {
          "base_uri": "https://localhost:8080/"
        },
        "id": "78qoAkqvdq4N",
        "outputId": "6af9ee6d-fe02-4778-e190-5ea4d54db97a"
      },
      "execution_count": null,
      "outputs": [
        {
          "output_type": "execute_result",
          "data": {
            "text/plain": [
              "array([[ 1,  2],\n",
              "       [-3,  1],\n",
              "       [ 1,  2],\n",
              "       [ 1, -1]])"
            ]
          },
          "metadata": {},
          "execution_count": 3
        }
      ]
    },
    {
      "cell_type": "markdown",
      "source": [
        "## 1.Вычислим матрицу Грама столбцов А\n",
        "\n"
      ],
      "metadata": {
        "id": "6OZ1U3RnehiD"
      }
    },
    {
      "cell_type": "code",
      "source": [
        "G = A.T@A\n",
        "G"
      ],
      "metadata": {
        "colab": {
          "base_uri": "https://localhost:8080/"
        },
        "id": "QOFb5Lwpegxm",
        "outputId": "f9123b41-1955-4e7c-9010-278a502707cd"
      },
      "execution_count": null,
      "outputs": [
        {
          "output_type": "execute_result",
          "data": {
            "text/plain": [
              "array([[12,  0],\n",
              "       [ 0, 10]])"
            ]
          },
          "metadata": {},
          "execution_count": 5
        }
      ]
    },
    {
      "cell_type": "markdown",
      "source": [
        "## 2.Найдем обратную матрицу (A^T*A)^-1"
      ],
      "metadata": {
        "id": "N6CmOBPOgLTv"
      }
    },
    {
      "cell_type": "code",
      "source": [
        "# обратная матрица - все ок\n",
        "G_inv=np.linalg.inv(G)\n",
        "print('G inversed:\\n',G_inv)"
      ],
      "metadata": {
        "colab": {
          "base_uri": "https://localhost:8080/"
        },
        "id": "eDQB7DbvgXaB",
        "outputId": "567cc0d6-4810-4c07-b672-9872126bab5a"
      },
      "execution_count": null,
      "outputs": [
        {
          "output_type": "stream",
          "name": "stdout",
          "text": [
            "G inversed:\n",
            " [[0.08333333 0.        ]\n",
            " [0.         0.1       ]]\n"
          ]
        }
      ]
    },
    {
      "cell_type": "markdown",
      "source": [
        "## 3.Вычислим A^T*b"
      ],
      "metadata": {
        "id": "QnbLGPXGg_B7"
      }
    },
    {
      "cell_type": "code",
      "source": [
        "b = np.array([1,4,5,0]).T\n",
        "b_roof = np.dot(A.T,b)\n",
        "b_roof"
      ],
      "metadata": {
        "colab": {
          "base_uri": "https://localhost:8080/"
        },
        "id": "68mzq5kqhKQl",
        "outputId": "0ae6932b-90d5-4773-e5aa-32c32e8ccbee"
      },
      "execution_count": null,
      "outputs": [
        {
          "output_type": "execute_result",
          "data": {
            "text/plain": [
              "array([-6, 16])"
            ]
          },
          "metadata": {},
          "execution_count": 8
        }
      ]
    },
    {
      "cell_type": "markdown",
      "source": [
        "## 4.Вычислим вектор оценок коэффициентов w"
      ],
      "metadata": {
        "id": "-yyhng5Ph-AJ"
      }
    },
    {
      "cell_type": "code",
      "source": [
        "w_roof = np.dot(G_inv, b_roof)\n",
        "w_roof"
      ],
      "metadata": {
        "colab": {
          "base_uri": "https://localhost:8080/"
        },
        "id": "MxycUbYChbgS",
        "outputId": "8e36bf2e-8855-4ed0-dc6b-43eb9720492d"
      },
      "execution_count": null,
      "outputs": [
        {
          "output_type": "execute_result",
          "data": {
            "text/plain": [
              "array([-0.5,  1.6])"
            ]
          },
          "metadata": {},
          "execution_count": 10
        }
      ]
    },
    {
      "cell_type": "markdown",
      "source": [
        "# Коллинеарность"
      ],
      "metadata": {
        "id": "2Nt9Q-KEVz0M"
      }
    },
    {
      "cell_type": "code",
      "source": [
        "# коллинеарность\n",
        "A1=np.array([5,1,2]).T\n",
        "A2=np.array([4,2,8]).T\n",
        "np.corrcoef(A1,A2)"
      ],
      "metadata": {
        "colab": {
          "base_uri": "https://localhost:8080/"
        },
        "id": "xrpsJSlEBfX1",
        "outputId": "de98b658-1cdf-4224-8fef-76dcf4d365d0"
      },
      "execution_count": null,
      "outputs": [
        {
          "output_type": "execute_result",
          "data": {
            "text/plain": [
              "array([[1.        , 0.05241424],\n",
              "       [0.05241424, 1.        ]])"
            ]
          },
          "metadata": {},
          "execution_count": 5
        }
      ]
    },
    {
      "cell_type": "code",
      "source": [
        "v = np.array([5, 1, 2])\n",
        "u = np.array([4, 2, 8])\n",
        "print('{:.2f}'.format(np.corrcoef(u, v)[0][1]))"
      ],
      "metadata": {
        "id": "olS6VXR9E1E2"
      },
      "execution_count": null,
      "outputs": []
    },
    {
      "cell_type": "code",
      "source": [
        "x_1 = np.array([5.1, 1.8, 2.1, 10.3, 12.1, 12.6])\n",
        "x_2 = np.array([10.2, 3.7, 4.1, 20.5, 24.2, 24.1])\n",
        "x_3 = np.array([2.5, 0.9, 1.1, 5.1, 6.1, 6.3])\n",
        "A = np.array([x_1,x_2,x_3])"
      ],
      "metadata": {
        "id": "wfTYxeW6B0XA"
      },
      "execution_count": null,
      "outputs": []
    },
    {
      "cell_type": "code",
      "source": [
        "d=np.corrcoef(A)\n",
        "d"
      ],
      "metadata": {
        "colab": {
          "base_uri": "https://localhost:8080/"
        },
        "id": "8K7CaxKZEL7c",
        "outputId": "35c4e4eb-905f-4f25-b67a-7552a445c304"
      },
      "execution_count": null,
      "outputs": [
        {
          "output_type": "execute_result",
          "data": {
            "text/plain": [
              "array([[1.        , 0.99925473, 0.99983661],\n",
              "       [0.99925473, 1.        , 0.99906626],\n",
              "       [0.99983661, 0.99906626, 1.        ]])"
            ]
          },
          "metadata": {},
          "execution_count": 14
        }
      ]
    },
    {
      "cell_type": "code",
      "source": [
        "print('rk(d):\\n',np.linalg.matrix_rank(d))"
      ],
      "metadata": {
        "colab": {
          "base_uri": "https://localhost:8080/"
        },
        "id": "Nj2CFxI8GV1f",
        "outputId": "5ab1d731-5577-4f49-a755-5b63edf7dcda"
      },
      "execution_count": null,
      "outputs": [
        {
          "output_type": "stream",
          "name": "stdout",
          "text": [
            "rk(d):\n",
            " 3\n"
          ]
        }
      ]
    },
    {
      "cell_type": "code",
      "source": [
        "print('det(A1)):\\n',round(np.linalg.det(d),7))"
      ],
      "metadata": {
        "colab": {
          "base_uri": "https://localhost:8080/"
        },
        "id": "Wf0M66icGit7",
        "outputId": "41aac845-4c56-4704-a747-5eaae0afcbd0"
      },
      "execution_count": null,
      "outputs": [
        {
          "output_type": "stream",
          "name": "stdout",
          "text": [
            "det(A1)):\n",
            " 5e-07\n"
          ]
        }
      ]
    }
  ]
}