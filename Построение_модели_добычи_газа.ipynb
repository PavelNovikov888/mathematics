{
  "cells": [
    {
      "cell_type": "markdown",
      "metadata": {
        "id": "view-in-github",
        "colab_type": "text"
      },
      "source": [
        "<a href=\"https://colab.research.google.com/github/PavelNovikov888/mathematics/blob/master/%D0%9F%D0%BE%D1%81%D1%82%D1%80%D0%BE%D0%B5%D0%BD%D0%B8%D0%B5_%D0%BC%D0%BE%D0%B4%D0%B5%D0%BB%D0%B8_%D0%B4%D0%BE%D0%B1%D1%8B%D1%87%D0%B8_%D0%B3%D0%B0%D0%B7%D0%B0.ipynb\" target=\"_parent\"><img src=\"https://colab.research.google.com/assets/colab-badge.svg\" alt=\"Open In Colab\"/></a>"
      ]
    },
    {
      "cell_type": "code",
      "execution_count": 2,
      "metadata": {
        "id": "0I3ip_MkXDuw"
      },
      "outputs": [],
      "source": [
        "import numpy as np\n",
        "import pandas as pd\n",
        "import seaborn as sns\n",
        "import matplotlib.pyplot as plt\n",
        "%matplotlib inline"
      ]
    },
    {
      "cell_type": "code",
      "source": [
        "#В колабе импортируем все необходимые библиотеки\n",
        "from pydrive.auth import GoogleAuth\n",
        "from pydrive.drive import GoogleDrive\n",
        "from google.colab import auth\n",
        "from oauth2client.client import GoogleCredentials\n",
        "\n",
        "#Привязываем гуглдиск к колабу\n",
        "auth.authenticate_user()\n",
        "gauth = GoogleAuth()\n",
        "gauth.credentials = GoogleCredentials.get_application_default()\n",
        "drive = GoogleDrive(gauth)\n",
        "\n",
        "# Загружаем файл в колаб\n",
        "download = drive.CreateFile({\"id\": \"1cnJZhJrUBdt_751YFgrDt82wPzk5IUze\"})\n",
        "# https://drive.google.com/file/d/1cnJZhJrUBdt_751YFgrDt82wPzk5IUze/view?usp=sharing\n",
        "download.GetContentFile(\"unconv.csv\")"
      ],
      "metadata": {
        "id": "-63l1l0CZCzv"
      },
      "execution_count": 3,
      "outputs": []
    },
    {
      "cell_type": "markdown",
      "source": [
        "# Описание задачи"
      ],
      "metadata": {
        "id": "HsLiNB9EXGkl"
      }
    },
    {
      "cell_type": "markdown",
      "metadata": {
        "id": "-G9vzfLMXDu7"
      },
      "source": [
        "Компания добывает газ.  \n",
        "Есть данные о добыче газа на скважинах.   \n",
        "Наша задача — построить оптимальную регрессионную модель, которая прогнозирует выработку газа на скважине (целевой признак — Prod) на основе остальных характеристик скважины, и проинтерпретировать результаты работы модели.  \n",
        "  \n"
      ]
    },
    {
      "cell_type": "markdown",
      "source": [
        "# Данные\n",
        "\n",
        "Признаки:\n",
        "\n",
        "- Well — идентификатор скважины;   \n",
        "- Por — пористость скважины (%);   \n",
        "- Perm — проницаемость скважины;   \n",
        "- AI — акустический импеданс (\\(кг/м^2*10^6\\));  \n",
        "- Brittle — коэффициент хрупкости скважины (%);   \n",
        "- TOC — общий органический углерод (%);  \n",
        "- VR — коэффициент отражения витринита (%);   \n",
        "- Prod — добыча газа в сутки (млн. кубических футов).  \n"
      ],
      "metadata": {
        "id": "UuTLAzb2X4iV"
      }
    },
    {
      "cell_type": "code",
      "execution_count": 4,
      "metadata": {
        "colab": {
          "base_uri": "https://localhost:8080/",
          "height": 206
        },
        "id": "ad1RBYuxXDvC",
        "outputId": "fdd2484e-356a-479f-9a16-588db10b9af2"
      },
      "outputs": [
        {
          "output_type": "execute_result",
          "data": {
            "text/plain": [
              "   Well    Por  Perm    AI  Brittle   TOC    VR         Prod\n",
              "0     1  12.08  2.92  2.80    81.40  1.16  2.31  4165.196191\n",
              "1     2  12.38  3.53  3.22    46.17  0.89  1.88  3561.146205\n",
              "2     3  14.02  2.59  4.01    72.80  0.89  2.72  4284.348574\n",
              "3     4  17.67  6.75  2.63    39.81  1.08  1.88  5098.680869\n",
              "4     5  17.52  4.57  3.18    10.94  1.51  1.90  3406.132832"
            ],
            "text/html": [
              "\n",
              "  <div id=\"df-0185b247-efb4-448b-9336-5842c08f0a49\" class=\"colab-df-container\">\n",
              "    <div>\n",
              "<style scoped>\n",
              "    .dataframe tbody tr th:only-of-type {\n",
              "        vertical-align: middle;\n",
              "    }\n",
              "\n",
              "    .dataframe tbody tr th {\n",
              "        vertical-align: top;\n",
              "    }\n",
              "\n",
              "    .dataframe thead th {\n",
              "        text-align: right;\n",
              "    }\n",
              "</style>\n",
              "<table border=\"1\" class=\"dataframe\">\n",
              "  <thead>\n",
              "    <tr style=\"text-align: right;\">\n",
              "      <th></th>\n",
              "      <th>Well</th>\n",
              "      <th>Por</th>\n",
              "      <th>Perm</th>\n",
              "      <th>AI</th>\n",
              "      <th>Brittle</th>\n",
              "      <th>TOC</th>\n",
              "      <th>VR</th>\n",
              "      <th>Prod</th>\n",
              "    </tr>\n",
              "  </thead>\n",
              "  <tbody>\n",
              "    <tr>\n",
              "      <th>0</th>\n",
              "      <td>1</td>\n",
              "      <td>12.08</td>\n",
              "      <td>2.92</td>\n",
              "      <td>2.80</td>\n",
              "      <td>81.40</td>\n",
              "      <td>1.16</td>\n",
              "      <td>2.31</td>\n",
              "      <td>4165.196191</td>\n",
              "    </tr>\n",
              "    <tr>\n",
              "      <th>1</th>\n",
              "      <td>2</td>\n",
              "      <td>12.38</td>\n",
              "      <td>3.53</td>\n",
              "      <td>3.22</td>\n",
              "      <td>46.17</td>\n",
              "      <td>0.89</td>\n",
              "      <td>1.88</td>\n",
              "      <td>3561.146205</td>\n",
              "    </tr>\n",
              "    <tr>\n",
              "      <th>2</th>\n",
              "      <td>3</td>\n",
              "      <td>14.02</td>\n",
              "      <td>2.59</td>\n",
              "      <td>4.01</td>\n",
              "      <td>72.80</td>\n",
              "      <td>0.89</td>\n",
              "      <td>2.72</td>\n",
              "      <td>4284.348574</td>\n",
              "    </tr>\n",
              "    <tr>\n",
              "      <th>3</th>\n",
              "      <td>4</td>\n",
              "      <td>17.67</td>\n",
              "      <td>6.75</td>\n",
              "      <td>2.63</td>\n",
              "      <td>39.81</td>\n",
              "      <td>1.08</td>\n",
              "      <td>1.88</td>\n",
              "      <td>5098.680869</td>\n",
              "    </tr>\n",
              "    <tr>\n",
              "      <th>4</th>\n",
              "      <td>5</td>\n",
              "      <td>17.52</td>\n",
              "      <td>4.57</td>\n",
              "      <td>3.18</td>\n",
              "      <td>10.94</td>\n",
              "      <td>1.51</td>\n",
              "      <td>1.90</td>\n",
              "      <td>3406.132832</td>\n",
              "    </tr>\n",
              "  </tbody>\n",
              "</table>\n",
              "</div>\n",
              "    <div class=\"colab-df-buttons\">\n",
              "\n",
              "  <div class=\"colab-df-container\">\n",
              "    <button class=\"colab-df-convert\" onclick=\"convertToInteractive('df-0185b247-efb4-448b-9336-5842c08f0a49')\"\n",
              "            title=\"Convert this dataframe to an interactive table.\"\n",
              "            style=\"display:none;\">\n",
              "\n",
              "  <svg xmlns=\"http://www.w3.org/2000/svg\" height=\"24px\" viewBox=\"0 -960 960 960\">\n",
              "    <path d=\"M120-120v-720h720v720H120Zm60-500h600v-160H180v160Zm220 220h160v-160H400v160Zm0 220h160v-160H400v160ZM180-400h160v-160H180v160Zm440 0h160v-160H620v160ZM180-180h160v-160H180v160Zm440 0h160v-160H620v160Z\"/>\n",
              "  </svg>\n",
              "    </button>\n",
              "\n",
              "  <style>\n",
              "    .colab-df-container {\n",
              "      display:flex;\n",
              "      gap: 12px;\n",
              "    }\n",
              "\n",
              "    .colab-df-convert {\n",
              "      background-color: #E8F0FE;\n",
              "      border: none;\n",
              "      border-radius: 50%;\n",
              "      cursor: pointer;\n",
              "      display: none;\n",
              "      fill: #1967D2;\n",
              "      height: 32px;\n",
              "      padding: 0 0 0 0;\n",
              "      width: 32px;\n",
              "    }\n",
              "\n",
              "    .colab-df-convert:hover {\n",
              "      background-color: #E2EBFA;\n",
              "      box-shadow: 0px 1px 2px rgba(60, 64, 67, 0.3), 0px 1px 3px 1px rgba(60, 64, 67, 0.15);\n",
              "      fill: #174EA6;\n",
              "    }\n",
              "\n",
              "    .colab-df-buttons div {\n",
              "      margin-bottom: 4px;\n",
              "    }\n",
              "\n",
              "    [theme=dark] .colab-df-convert {\n",
              "      background-color: #3B4455;\n",
              "      fill: #D2E3FC;\n",
              "    }\n",
              "\n",
              "    [theme=dark] .colab-df-convert:hover {\n",
              "      background-color: #434B5C;\n",
              "      box-shadow: 0px 1px 3px 1px rgba(0, 0, 0, 0.15);\n",
              "      filter: drop-shadow(0px 1px 2px rgba(0, 0, 0, 0.3));\n",
              "      fill: #FFFFFF;\n",
              "    }\n",
              "  </style>\n",
              "\n",
              "    <script>\n",
              "      const buttonEl =\n",
              "        document.querySelector('#df-0185b247-efb4-448b-9336-5842c08f0a49 button.colab-df-convert');\n",
              "      buttonEl.style.display =\n",
              "        google.colab.kernel.accessAllowed ? 'block' : 'none';\n",
              "\n",
              "      async function convertToInteractive(key) {\n",
              "        const element = document.querySelector('#df-0185b247-efb4-448b-9336-5842c08f0a49');\n",
              "        const dataTable =\n",
              "          await google.colab.kernel.invokeFunction('convertToInteractive',\n",
              "                                                    [key], {});\n",
              "        if (!dataTable) return;\n",
              "\n",
              "        const docLinkHtml = 'Like what you see? Visit the ' +\n",
              "          '<a target=\"_blank\" href=https://colab.research.google.com/notebooks/data_table.ipynb>data table notebook</a>'\n",
              "          + ' to learn more about interactive tables.';\n",
              "        element.innerHTML = '';\n",
              "        dataTable['output_type'] = 'display_data';\n",
              "        await google.colab.output.renderOutput(dataTable, element);\n",
              "        const docLink = document.createElement('div');\n",
              "        docLink.innerHTML = docLinkHtml;\n",
              "        element.appendChild(docLink);\n",
              "      }\n",
              "    </script>\n",
              "  </div>\n",
              "\n",
              "\n",
              "<div id=\"df-9cae1e82-9249-4074-a99f-1339be231f4d\">\n",
              "  <button class=\"colab-df-quickchart\" onclick=\"quickchart('df-9cae1e82-9249-4074-a99f-1339be231f4d')\"\n",
              "            title=\"Suggest charts\"\n",
              "            style=\"display:none;\">\n",
              "\n",
              "<svg xmlns=\"http://www.w3.org/2000/svg\" height=\"24px\"viewBox=\"0 0 24 24\"\n",
              "     width=\"24px\">\n",
              "    <g>\n",
              "        <path d=\"M19 3H5c-1.1 0-2 .9-2 2v14c0 1.1.9 2 2 2h14c1.1 0 2-.9 2-2V5c0-1.1-.9-2-2-2zM9 17H7v-7h2v7zm4 0h-2V7h2v10zm4 0h-2v-4h2v4z\"/>\n",
              "    </g>\n",
              "</svg>\n",
              "  </button>\n",
              "\n",
              "<style>\n",
              "  .colab-df-quickchart {\n",
              "      --bg-color: #E8F0FE;\n",
              "      --fill-color: #1967D2;\n",
              "      --hover-bg-color: #E2EBFA;\n",
              "      --hover-fill-color: #174EA6;\n",
              "      --disabled-fill-color: #AAA;\n",
              "      --disabled-bg-color: #DDD;\n",
              "  }\n",
              "\n",
              "  [theme=dark] .colab-df-quickchart {\n",
              "      --bg-color: #3B4455;\n",
              "      --fill-color: #D2E3FC;\n",
              "      --hover-bg-color: #434B5C;\n",
              "      --hover-fill-color: #FFFFFF;\n",
              "      --disabled-bg-color: #3B4455;\n",
              "      --disabled-fill-color: #666;\n",
              "  }\n",
              "\n",
              "  .colab-df-quickchart {\n",
              "    background-color: var(--bg-color);\n",
              "    border: none;\n",
              "    border-radius: 50%;\n",
              "    cursor: pointer;\n",
              "    display: none;\n",
              "    fill: var(--fill-color);\n",
              "    height: 32px;\n",
              "    padding: 0;\n",
              "    width: 32px;\n",
              "  }\n",
              "\n",
              "  .colab-df-quickchart:hover {\n",
              "    background-color: var(--hover-bg-color);\n",
              "    box-shadow: 0 1px 2px rgba(60, 64, 67, 0.3), 0 1px 3px 1px rgba(60, 64, 67, 0.15);\n",
              "    fill: var(--button-hover-fill-color);\n",
              "  }\n",
              "\n",
              "  .colab-df-quickchart-complete:disabled,\n",
              "  .colab-df-quickchart-complete:disabled:hover {\n",
              "    background-color: var(--disabled-bg-color);\n",
              "    fill: var(--disabled-fill-color);\n",
              "    box-shadow: none;\n",
              "  }\n",
              "\n",
              "  .colab-df-spinner {\n",
              "    border: 2px solid var(--fill-color);\n",
              "    border-color: transparent;\n",
              "    border-bottom-color: var(--fill-color);\n",
              "    animation:\n",
              "      spin 1s steps(1) infinite;\n",
              "  }\n",
              "\n",
              "  @keyframes spin {\n",
              "    0% {\n",
              "      border-color: transparent;\n",
              "      border-bottom-color: var(--fill-color);\n",
              "      border-left-color: var(--fill-color);\n",
              "    }\n",
              "    20% {\n",
              "      border-color: transparent;\n",
              "      border-left-color: var(--fill-color);\n",
              "      border-top-color: var(--fill-color);\n",
              "    }\n",
              "    30% {\n",
              "      border-color: transparent;\n",
              "      border-left-color: var(--fill-color);\n",
              "      border-top-color: var(--fill-color);\n",
              "      border-right-color: var(--fill-color);\n",
              "    }\n",
              "    40% {\n",
              "      border-color: transparent;\n",
              "      border-right-color: var(--fill-color);\n",
              "      border-top-color: var(--fill-color);\n",
              "    }\n",
              "    60% {\n",
              "      border-color: transparent;\n",
              "      border-right-color: var(--fill-color);\n",
              "    }\n",
              "    80% {\n",
              "      border-color: transparent;\n",
              "      border-right-color: var(--fill-color);\n",
              "      border-bottom-color: var(--fill-color);\n",
              "    }\n",
              "    90% {\n",
              "      border-color: transparent;\n",
              "      border-bottom-color: var(--fill-color);\n",
              "    }\n",
              "  }\n",
              "</style>\n",
              "\n",
              "  <script>\n",
              "    async function quickchart(key) {\n",
              "      const quickchartButtonEl =\n",
              "        document.querySelector('#' + key + ' button');\n",
              "      quickchartButtonEl.disabled = true;  // To prevent multiple clicks.\n",
              "      quickchartButtonEl.classList.add('colab-df-spinner');\n",
              "      try {\n",
              "        const charts = await google.colab.kernel.invokeFunction(\n",
              "            'suggestCharts', [key], {});\n",
              "      } catch (error) {\n",
              "        console.error('Error during call to suggestCharts:', error);\n",
              "      }\n",
              "      quickchartButtonEl.classList.remove('colab-df-spinner');\n",
              "      quickchartButtonEl.classList.add('colab-df-quickchart-complete');\n",
              "    }\n",
              "    (() => {\n",
              "      let quickchartButtonEl =\n",
              "        document.querySelector('#df-9cae1e82-9249-4074-a99f-1339be231f4d button');\n",
              "      quickchartButtonEl.style.display =\n",
              "        google.colab.kernel.accessAllowed ? 'block' : 'none';\n",
              "    })();\n",
              "  </script>\n",
              "</div>\n",
              "    </div>\n",
              "  </div>\n"
            ]
          },
          "metadata": {},
          "execution_count": 4
        }
      ],
      "source": [
        "data = pd.read_csv('unconv.csv')\n",
        "data.head()"
      ]
    },
    {
      "cell_type": "code",
      "execution_count": 5,
      "metadata": {
        "colab": {
          "base_uri": "https://localhost:8080/"
        },
        "id": "mjmLKTptXDvH",
        "outputId": "99d9206b-8cc8-4b19-dc5e-080feb4d90eb"
      },
      "outputs": [
        {
          "output_type": "execute_result",
          "data": {
            "text/plain": [
              "(200, 8)"
            ]
          },
          "metadata": {},
          "execution_count": 5
        }
      ],
      "source": [
        "data.shape"
      ]
    },
    {
      "cell_type": "markdown",
      "source": [
        "## Корреляционная матрица"
      ],
      "metadata": {
        "id": "-OVzo7UtZ2A8"
      }
    },
    {
      "cell_type": "code",
      "execution_count": 6,
      "metadata": {
        "colab": {
          "base_uri": "https://localhost:8080/",
          "height": 452
        },
        "id": "gjlZ8h51XDvL",
        "outputId": "e28fb312-fa4e-420c-81d7-483ae1b0b0ad"
      },
      "outputs": [
        {
          "output_type": "execute_result",
          "data": {
            "text/plain": [
              "<Axes: >"
            ]
          },
          "metadata": {},
          "execution_count": 6
        },
        {
          "output_type": "display_data",
          "data": {
            "text/plain": [
              "<Figure size 640x480 with 2 Axes>"
            ],
            "image/png": "[encoded data removed]"
          },
          "metadata": {}
        }
      ],
      "source": [
        "# найдем наиболее скоррелированнные с целевым признаком признаки\n",
        "h = data.corr()\n",
        "sns.heatmap(h, annot = True, fmt='.1g')"
      ]
    },
    {
      "cell_type": "markdown",
      "source": [
        "Сильно скоррелированы с Prod признаки Por, Perm, TOC"
      ],
      "metadata": {
        "id": "ZxeaMYxUaGjG"
      }
    },
    {
      "cell_type": "code",
      "execution_count": 7,
      "metadata": {
        "colab": {
          "base_uri": "https://localhost:8080/"
        },
        "id": "qpcO2KjuXDvN",
        "outputId": "e54b46d7-86f3-49de-feca-433b028a51e3"
      },
      "outputs": [
        {
          "output_type": "stream",
          "name": "stdout",
          "text": [
            "8\n"
          ]
        }
      ],
      "source": [
        "#Вычислим ранг корреляционной матрицы\n",
        "print(np.linalg.matrix_rank(h))"
      ]
    },
    {
      "cell_type": "markdown",
      "source": [
        "Показатель ранга максимален, чистой коллинеарности нет."
      ],
      "metadata": {
        "id": "1ASQSxSgamm8"
      }
    },
    {
      "cell_type": "code",
      "execution_count": 8,
      "metadata": {
        "colab": {
          "base_uri": "https://localhost:8080/"
        },
        "id": "pCS0SIdPXDvQ",
        "outputId": "e26bc3c2-ec14-4ade-e904-9fab2fc5010d"
      },
      "outputs": [
        {
          "output_type": "stream",
          "name": "stdout",
          "text": [
            "0.0007\n"
          ]
        }
      ],
      "source": [
        "#Вычислите определитель матрицы корреляций\n",
        "print(round(np.linalg.det(h),4))"
      ]
    },
    {
      "cell_type": "markdown",
      "metadata": {
        "id": "mRn1nlB8XDvS"
      },
      "source": [
        "Однако, корреляционная матрица плохо обусловлена, т.к. определитель близок к 0."
      ]
    },
    {
      "cell_type": "markdown",
      "metadata": {
        "id": "uIkqS7mkXDvJ"
      },
      "source": [
        "# Простая линейная регрессия"
      ]
    },
    {
      "cell_type": "code",
      "execution_count": 9,
      "metadata": {
        "colab": {
          "base_uri": "https://localhost:8080/"
        },
        "id": "bcfljuEpXDvV",
        "outputId": "28a6e7bb-1091-47b8-f196-57507265c6d0"
      },
      "outputs": [
        {
          "output_type": "stream",
          "name": "stdout",
          "text": [
            "intercept   -1232.0\n",
            "Well            0.0\n",
            "Por           230.0\n",
            "Perm          116.0\n",
            "AI           -365.0\n",
            "Brittle        25.0\n",
            "TOC           -78.0\n",
            "VR            785.0\n",
            "dtype: float64\n"
          ]
        }
      ],
      "source": [
        "# Матрица наблюдений\n",
        "X = data.drop('Prod', axis=1)\n",
        "# целевой признак\n",
        "y = data['Prod'].values\n",
        "# список индексов\n",
        "index = ['intercept']+list(X.columns)\n",
        "# количество строк в матрице наблюдений\n",
        "n = X.shape[0]\n",
        "# присоединяем единичный вектор-константу к матрице наблюдений\n",
        "X = np.column_stack((np.ones(n), X))\n",
        "# строим модель по методу МНК\n",
        "w_hat = np.linalg.inv(X.T@X)@X.T@y\n",
        "# выводим на экран полученные оценки коэффицентов модели\n",
        "print(pd.Series(np.round(w_hat, 0), index=index))"
      ]
    },
    {
      "cell_type": "markdown",
      "source": [
        "Признак Well не информативен и не влияет на прогноз."
      ],
      "metadata": {
        "id": "UX6QLZBMpDTe"
      }
    },
    {
      "cell_type": "markdown",
      "metadata": {
        "id": "dl1E1ne3XDvX"
      },
      "source": [
        "## Прогнозы и оценка ошибок\n",
        "Построим прогноз выработки газа для скважины с параметрами, указанными ниже."
      ]
    },
    {
      "cell_type": "code",
      "execution_count": 10,
      "metadata": {
        "colab": {
          "base_uri": "https://localhost:8080/"
        },
        "id": "2jkxaRU-XDvY",
        "outputId": "0b8a25e1-5708-451c-d836-c70b59ed4d68"
      },
      "outputs": [
        {
          "output_type": "stream",
          "name": "stdout",
          "text": [
            "Абсолютная ошибка прогноза для предложенной скважины (в миллионах кубических футов в день): 25.0\n"
          ]
        }
      ],
      "source": [
        "# новые параметры выработки\n",
        "x_new = np.array([1, 106, 15.32, 3.71, 3.29, 55.99, 1.35, 2.42])\n",
        "# фактические показатели добычи\n",
        "y_new = 4748.315024\n",
        "# прогноз\n",
        "y_new_pred = x_new @ w_hat\n",
        "# абсолютная ошибка прогноза\n",
        "print(f'Абсолютная ошибка прогноза для предложенной скважины (в миллионах кубических футов в день): {np.round(np.abs(y_new_pred - y_new), 0)}')"
      ]
    },
    {
      "cell_type": "markdown",
      "metadata": {
        "id": "1iQN1FNDXDva"
      },
      "source": [
        "Построим прогноз выработки газа для всех скважин из обучающего набора данных.\n",
        "  \n",
        "Чему равно значение метрики MAPE?"
      ]
    },
    {
      "cell_type": "code",
      "execution_count": 11,
      "metadata": {
        "colab": {
          "base_uri": "https://localhost:8080/"
        },
        "id": "3JEs6ra2XDva",
        "outputId": "4752076b-bc6a-48d0-9550-539adae5d58b"
      },
      "outputs": [
        {
          "output_type": "stream",
          "name": "stdout",
          "text": [
            "Средняя абсолютная процентная ошибка MAPE: 3.6 % \n"
          ]
        }
      ],
      "source": [
        "from sklearn.metrics import mean_absolute_percentage_error\n",
        "# делаем прогноз для всех скважин\n",
        "y_pred = X @ w_hat\n",
        "# отобразим ошибку\n",
        "print('Средняя абсолютная процентная ошибка MAPE: {:.1f} % '.format(mean_absolute_percentage_error(y, y_pred)*100))"
      ]
    },
    {
      "cell_type": "markdown",
      "source": [
        "## Анализ построенной модели"
      ],
      "metadata": {
        "id": "KtM5lDL_mBl4"
      }
    },
    {
      "cell_type": "markdown",
      "metadata": {
        "id": "hkpFoM5EXDvc"
      },
      "source": [
        "Сравним полученные коэффициенты и их знаки со значениями выборочных корреляций между целевым признаком и факторами, найденными ранее.\n",
        "\n",
        "\n",
        "Найдем в модели фактор, при котором коэффициент в модели линейной регрессии противоречит соответствующему коэффициенту корреляции.  \n",
        "Например, корреляция говорит, что зависимость между фактором и целью прямая, а модель говорит обратное.\n",
        "\n",
        "Такой коэффициент Wtoc ~ 78 .\n",
        "\n",
        "Результат объясняется наличием сильной мультиколлинеарности в данных, которая «портит» коэффициенты.   \n",
        "   \n",
        "Согласно построенной модели, зависимость между процентом органического углерода и производительностью скважины обратная.   \n",
        "Однако, согласно положительному коэффициенту корреляции между этим факторым и целевым признаком, равным 0.65 (а также согласно реальным фактам из сферы добычи газа), зависимость должна быть прямой.  \n",
        "Чтобы убедиться в этом, построим диаграмму рассеяния, отражающую зависимость между TOC и Pro.\n"
      ]
    },
    {
      "cell_type": "code",
      "execution_count": 12,
      "metadata": {
        "colab": {
          "base_uri": "https://localhost:8080/",
          "height": 449
        },
        "id": "RzcHF7KdXDvd",
        "outputId": "58d25cdd-ce0f-41ee-f769-cdaf57b0cbd2"
      },
      "outputs": [
        {
          "output_type": "display_data",
          "data": {
            "text/plain": [
              "<Figure size 640x480 with 1 Axes>"
            ],
            "image/png": "[encoded data removed]"
          },
          "metadata": {}
        }
      ],
      "source": [
        "sns.scatterplot(x='TOC', y='Prod', data=data);"
      ]
    },
    {
      "cell_type": "markdown",
      "metadata": {
        "id": "lvWyTKl1XDve"
      },
      "source": [
        "Из графика видно, что зависимость прямая и линейная."
      ]
    },
    {
      "cell_type": "markdown",
      "source": [
        "## Модель без мультиколлинеарности"
      ],
      "metadata": {
        "id": "YTXKBc_lpzlt"
      }
    },
    {
      "cell_type": "markdown",
      "metadata": {
        "id": "jaKrLJ63XDvf"
      },
      "source": [
        "Исключим из данных сильно коррелированные (>70) между собой факторы.   \n",
        "Выбирая, какой из коррелированных факторов оставить, руководствуемся коэффициентом корреляции с целевой переменной: оставляем тот фактор, который больше всего коррелирует с объёмом добычи газа.\n",
        "\n",
        "Также исключаем из данных факторы, для которых корреляция с целевой переменной меньше 0.05.\n",
        "\n",
        "К таким факторам относятся 'Perm', 'TOC', 'Well'"
      ]
    },
    {
      "cell_type": "code",
      "execution_count": 13,
      "metadata": {
        "colab": {
          "base_uri": "https://localhost:8080/"
        },
        "id": "YjS-mIgOXDvg",
        "outputId": "7ea2de5b-d1be-431f-de7c-c0f94769a710"
      },
      "outputs": [
        {
          "output_type": "stream",
          "name": "stdout",
          "text": [
            "intercept   -1835.0\n",
            "Por           293.0\n",
            "AI           -200.0\n",
            "Brittle        28.0\n",
            "VR            517.0\n",
            "dtype: float64\n",
            "Средняя абсолютная процентная ошибка MAPE: 4.0 % \n"
          ]
        }
      ],
      "source": [
        "from sklearn.metrics import mean_absolute_percentage_error\n",
        "# матрица наблюдений\n",
        "X = data.drop(['Prod', 'Perm', 'TOC', 'Well'], axis=1)\n",
        "# целевой признак\n",
        "y = data['Prod'].values\n",
        "# индекс для таблицы получившихся коэффицентов\n",
        "index = ['intercept']+list(X.columns)\n",
        "# количество наблюдений\n",
        "n = X.shape[0]\n",
        "# добавим единичный вектор-столбец\n",
        "X = np.column_stack((np.ones(n), X))\n",
        "# построим методом МНК\n",
        "w_hat = np.linalg.inv(X.T@X)@X.T@y\n",
        "# сделаем прогноз\n",
        "y_pred = X @ w_hat\n",
        "# напечатаем коэффиценты модели\n",
        "print(pd.Series(np.round(w_hat, 0), index=index))\n",
        "# выведем ошибку\n",
        "print('Средняя абсолютная процентная ошибка MAPE: {:.1f} % '.format(mean_absolute_percentage_error(y, y_pred)*100))"
      ]
    },
    {
      "cell_type": "markdown",
      "source": [
        "Вывод: Нам удалось побороть противоречие коэффициентов линейной регрессии и коэффициентов корреляции, знаки корреляций совпадают со знаками коэффициентов регрессии.  \n",
        "Это произошло благодаря избавлению от мультиколлинеарности."
      ],
      "metadata": {
        "id": "UNQKdkPcsMw6"
      }
    },
    {
      "cell_type": "markdown",
      "source": [
        "# Генерация полиномиальных признаков"
      ],
      "metadata": {
        "id": "tiXqL4ZA6TNe"
      }
    },
    {
      "cell_type": "markdown",
      "metadata": {
        "id": "9TnyMdApXDvh"
      },
      "source": [
        "Мы хотим попробовать улучшить наш результат — метрику MAPE.  \n",
        "Для этого воспользуемся моделью полиномиальной регрессии третьей степени.\n",
        "\n",
        "Однако теперь мы знаем, что полиномиальным моделям очень легко переобучиться под исходную выборку, поэтому для контроля качества модели мы будем использовать кросс-валидацию."
      ]
    },
    {
      "cell_type": "markdown",
      "metadata": {
        "id": "GCv0Zs5dXDvi"
      },
      "source": [
        "Сгенерируем полиномиальные признаки третьего порядка на факторах, которые быии выбраны для обучения моделей.  \n",
        "Для этого воспользуемся генератором полиномов PolynomialFeatures из библиотеки sklearn.   \n",
        "Параметр include_bias установим в значение False.\n"
      ]
    },
    {
      "cell_type": "code",
      "execution_count": 14,
      "metadata": {
        "colab": {
          "base_uri": "https://localhost:8080/"
        },
        "id": "4j9COaXmXDvi",
        "outputId": "c56e24fc-8697-4cea-e6c3-9bde07087bf9"
      },
      "outputs": [
        {
          "output_type": "stream",
          "name": "stdout",
          "text": [
            "После генерации полиномиальных признаков, количество признаков стало: 200\n"
          ]
        }
      ],
      "source": [
        "from sklearn.model_selection import cross_validate\n",
        "from sklearn.preprocessing import PolynomialFeatures\n",
        "X = data.drop(['Prod', 'Perm', 'TOC', 'Well'], axis=1)\n",
        "y = data['Prod'].values\n",
        "#добавляем полиномиальные признаки\n",
        "poly = PolynomialFeatures(degree=3, include_bias= False)\n",
        "X_poly = poly.fit_transform(X)\n",
        "print(f'После генерации полиномиальных признаков, признаков стало: {X_poly.shape[0]}')"
      ]
    },
    {
      "cell_type": "markdown",
      "source": [
        "# LinearRegression + polynomial_features"
      ],
      "metadata": {
        "id": "Q_8c7dIh6l5b"
      }
    },
    {
      "cell_type": "code",
      "execution_count": 18,
      "metadata": {
        "colab": {
          "base_uri": "https://localhost:8080/"
        },
        "id": "kkwcY9_NXDvj",
        "outputId": "d0615f60-3bcc-4111-9d28-683fe2811d51"
      },
      "outputs": [
        {
          "output_type": "stream",
          "name": "stdout",
          "text": [
            "MAPE на тренировочных фолдах: 1.8 %\n",
            "MAPE на валидационных фолдах: 2.7 %\n"
          ]
        }
      ],
      "source": [
        "#создаем модель линейной регрессии\n",
        "from sklearn.linear_model import LinearRegression\n",
        "# создаём модель линейной регрессии\n",
        "lr = LinearRegression()\n",
        "lr.fit(X_poly,y)\n",
        "# оцениваем качество модели на кросс-валидации, метрика — MAPE\n",
        "cv_results = cross_validate(lr, X_poly, y, scoring='neg_mean_absolute_percentage_error', cv=5, return_train_score=True)\n",
        "print('MAPE на тренировочных фолдах: {:.1f} %'.format(-cv_results['train_score'].mean()* 100))\n",
        "print('MAPE на валидационных фолдах: {:.1f} %'.format(-cv_results['test_score'].mean() * 100))"
      ]
    },
    {
      "cell_type": "markdown",
      "source": [
        "# Lasso + polynomial_features"
      ],
      "metadata": {
        "id": "30sxNJpg58l-"
      }
    },
    {
      "cell_type": "code",
      "execution_count": 16,
      "metadata": {
        "colab": {
          "base_uri": "https://localhost:8080/"
        },
        "id": "PViXgXkMXDvk",
        "outputId": "8ec38966-67af-453e-956d-c67d1985c84e"
      },
      "outputs": [
        {
          "output_type": "stream",
          "name": "stdout",
          "text": [
            "MAPE на тренировочных фолдах: 1.8 %\n",
            "MAPE на валидационных фолдах: 2.3 %\n"
          ]
        }
      ],
      "source": [
        "from sklearn.preprocessing import StandardScaler\n",
        "from sklearn import linear_model\n",
        "\n",
        "X = data.drop(['Prod', 'Perm', 'TOC', 'Well'], axis=1)\n",
        "y = data['Prod'].values\n",
        "scaler=StandardScaler()\n",
        "X = scaler.fit_transform(X)\n",
        "poly = PolynomialFeatures(degree=3, include_bias= False)\n",
        "X_poly = poly.fit_transform(X)\n",
        "lasso = linear_model.Lasso(alpha=5)\n",
        "lasso.fit(X_poly, y)\n",
        "\n",
        "# оцениваем качество модели на кросс-валидации, метрика — MAPE\n",
        "cv_results = cross_validate(lasso, X_poly, y, scoring='neg_mean_absolute_percentage_error', cv=5, return_train_score=True)\n",
        "print('MAPE на тренировочных фолдах: {:.1f} %'.format(-cv_results['train_score'].mean()* 100))\n",
        "print('MAPE на валидационных фолдах: {:.1f} %'.format(-cv_results['test_score'].mean() * 100))"
      ]
    },
    {
      "cell_type": "markdown",
      "source": [
        "# Ridge + polynomial_features"
      ],
      "metadata": {
        "id": "X8SXi9Am7KfJ"
      }
    },
    {
      "cell_type": "code",
      "execution_count": 17,
      "metadata": {
        "colab": {
          "base_uri": "https://localhost:8080/"
        },
        "id": "nggUE4KTXDvl",
        "outputId": "333ff597-3ab8-465f-c8c7-b6b08d285e75"
      },
      "outputs": [
        {
          "output_type": "stream",
          "name": "stdout",
          "text": [
            "MAPE на тренировочных фолдах: 1.8 %\n",
            "MAPE на валидационных фолдах: 2.7 %\n"
          ]
        }
      ],
      "source": [
        "X = data.drop(['Prod', 'Perm', 'TOC', 'Well'], axis=1)\n",
        "y = data['Prod'].values\n",
        "scaler=StandardScaler()\n",
        "X_scaled = scaler.fit_transform(X)\n",
        "poly = PolynomialFeatures(degree=3, include_bias= False)\n",
        "X_poly = poly.fit_transform(X_scaled)\n",
        "ridge = linear_model.Ridge(alpha=1)\n",
        "ridge.fit(X_poly, y)\n",
        "\n",
        "# оцениваем качество модели на кросс-валидации, метрика — MAPE\n",
        "cv_results = cross_validate(ridge, X_poly, y, scoring='neg_mean_absolute_percentage_error', cv=5, return_train_score=True)\n",
        "print('MAPE на тренировочных фолдах: {:.1f} %'.format(-cv_results['train_score'].mean()* 100))\n",
        "print('MAPE на валидационных фолдах: {:.1f} %'.format(-cv_results['test_score'].mean() * 100))"
      ]
    },
    {
      "cell_type": "markdown",
      "source": [
        "# Итоги"
      ],
      "metadata": {
        "id": "W1DqD-id7bHm"
      }
    },
    {
      "cell_type": "markdown",
      "source": [
        "Нашей задачей было построить оптимальную регрессионную модель, которая прогнозирует выработку газа на скважине (целевой признак — Prod) на основе остальных характеристик скважины, и проинтерпретировать результаты работы модели.\n",
        "\n",
        "Строим итоговую таблицу с результатами работы моделей:\n",
        "\n",
        "| Наименование модели     | Метрика  MAPE |\n",
        "| ----------- | ----------- |\n",
        "| Простая линейная регрессия      | 3.6      |\n",
        "| Простая линейная регрессия - мультиколлинеарность  | 4.0        |\n",
        "| LinearRegression + polynomial_features     | 2.7     |\n",
        "| Lasso + polynomial_features  |2.3        |\n",
        "| Ridge + polynomial_features  | 2.7 |\n",
        "\n",
        "Т.о. наилучшая модель для прогнозирования добычи газа это Lasso на полиноме 3 степени."
      ],
      "metadata": {
        "id": "EqXY7mGh7nMQ"
      }
    }
  ],
  "metadata": {
    "kernelspec": {
      "display_name": "Python 3.9.7 ('base')",
      "language": "python",
      "name": "python3"
    },
    "language_info": {
      "codemirror_mode": {
        "name": "ipython",
        "version": 3
      },
      "file_extension": ".py",
      "mimetype": "text/x-python",
      "name": "python",
      "nbconvert_exporter": "python",
      "pygments_lexer": "ipython3",
      "version": "3.9.7"
    },
    "orig_nbformat": 4,
    "vscode": {
      "interpreter": {
        "hash": "1448b48b023bcc9c3d4a79e814720a10ca6d4244f75e0f7ce4af58f96ba2b7d3"
      }
    },
    "colab": {
      "provenance": [],
      "toc_visible": true,
      "include_colab_link": true
    }
  },
  "nbformat": 4,
  "nbformat_minor": 0
}