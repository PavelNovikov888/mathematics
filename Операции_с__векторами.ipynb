{
  "cells": [
    {
      "cell_type": "markdown",
      "metadata": {
        "id": "view-in-github",
        "colab_type": "text"
      },
      "source": [
        "<a href=\"https://colab.research.google.com/github/PavelNovikov888/mathematics/blob/master/%D0%9E%D0%BF%D0%B5%D1%80%D0%B0%D1%86%D0%B8%D0%B8_%D1%81__%D0%B2%D0%B5%D0%BA%D1%82%D0%BE%D1%80%D0%B0%D0%BC%D0%B8.ipynb\" target=\"_parent\"><img src=\"https://colab.research.google.com/assets/colab-badge.svg\" alt=\"Open In Colab\"/></a>"
      ]
    },
    {
      "cell_type": "code",
      "execution_count": null,
      "metadata": {
        "id": "Tc7xkEvkymVV"
      },
      "outputs": [],
      "source": [
        "import numpy as np"
      ]
    },
    {
      "cell_type": "markdown",
      "metadata": {
        "id": "ekWif7hwt6p3"
      },
      "source": [
        "# Создать вектор"
      ]
    },
    {
      "cell_type": "markdown",
      "metadata": {
        "id": "ja9lNIe8t6p9"
      },
      "source": [
        "## как одномерный массив numpy"
      ]
    },
    {
      "cell_type": "code",
      "execution_count": null,
      "metadata": {
        "id": "Cnl8HEfuymVq",
        "outputId": "2a66605c-8a14-415a-923e-d592488abf83"
      },
      "outputs": [
        {
          "name": "stdout",
          "output_type": "stream",
          "text": [
            "[1 2 3] <class 'numpy.ndarray'>\n"
          ]
        }
      ],
      "source": [
        "a=np.array([1,2,3])\n",
        "print(a, type(a))"
      ]
    },
    {
      "cell_type": "code",
      "execution_count": null,
      "metadata": {
        "id": "Z_4zzU8rymVw",
        "outputId": "54f34bca-7c08-40fa-cc9c-10ae082b1d74"
      },
      "outputs": [
        {
          "data": {
            "text/plain": [
              "array([1., 2., 3.])"
            ]
          },
          "execution_count": 3,
          "metadata": {},
          "output_type": "execute_result"
        }
      ],
      "source": [
        "np.array([1,2,3], dtype='float')"
      ]
    },
    {
      "cell_type": "markdown",
      "metadata": {
        "id": "BkkprbkUt6qF"
      },
      "source": [
        "## преобразовать из списка (list)"
      ]
    },
    {
      "cell_type": "code",
      "execution_count": null,
      "metadata": {
        "id": "FLn74OREymVz",
        "outputId": "f2334338-9ac2-441a-ef7d-7f8cf166babe"
      },
      "outputs": [
        {
          "name": "stdout",
          "output_type": "stream",
          "text": [
            "[1, 2, 3] <class 'list'>\n",
            "[1 2 3] <class 'numpy.ndarray'>\n"
          ]
        }
      ],
      "source": [
        "x=[1,2,3]\n",
        "x_arr=np.array(x)\n",
        "print(x, type(x))\n",
        "print(x_arr, type(x_arr))"
      ]
    },
    {
      "cell_type": "markdown",
      "metadata": {
        "id": "sK_TKjwkt6qL"
      },
      "source": [
        "## нулевой вектор"
      ]
    },
    {
      "cell_type": "code",
      "execution_count": null,
      "metadata": {
        "id": "nGkg5GBwymV3",
        "outputId": "33be0248-0ee3-461d-a262-f12a98fd380b"
      },
      "outputs": [
        {
          "data": {
            "text/plain": [
              "array([0., 0., 0., 0., 0.])"
            ]
          },
          "execution_count": 5,
          "metadata": {},
          "output_type": "execute_result"
        }
      ],
      "source": [
        "np.zeros(5)"
      ]
    },
    {
      "cell_type": "markdown",
      "metadata": {
        "id": "vxm2FlDyt6qP"
      },
      "source": [
        "## вектор из единиц"
      ]
    },
    {
      "cell_type": "code",
      "execution_count": null,
      "metadata": {
        "id": "LUDaxkcJymV6",
        "outputId": "191da2cb-a5fa-44f4-f74d-961b84fd6e73"
      },
      "outputs": [
        {
          "data": {
            "text/plain": [
              "array([1., 1., 1., 1., 1., 1., 1., 1.])"
            ]
          },
          "execution_count": 7,
          "metadata": {},
          "output_type": "execute_result"
        }
      ],
      "source": [
        "np.ones(8)"
      ]
    },
    {
      "cell_type": "markdown",
      "metadata": {
        "id": "0Vx62ppGt6qT"
      },
      "source": [
        "## массив чисел по порядку"
      ]
    },
    {
      "cell_type": "code",
      "execution_count": null,
      "metadata": {
        "id": "4JJrxHdLymWB",
        "outputId": "c5408ec0-6e97-4a81-c3f6-3d4a63b9358e"
      },
      "outputs": [
        {
          "data": {
            "text/plain": [
              "array([10, 15, 20, 25, 30, 35, 40, 45])"
            ]
          },
          "execution_count": 6,
          "metadata": {},
          "output_type": "execute_result"
        }
      ],
      "source": [
        "np.arange(10,50, 5)"
      ]
    },
    {
      "cell_type": "markdown",
      "metadata": {
        "id": "OAbUS3F-t6qW"
      },
      "source": [
        "## случайный вектор"
      ]
    },
    {
      "cell_type": "code",
      "execution_count": null,
      "metadata": {
        "id": "ul4_CKIkymWF",
        "outputId": "f4f0f1ae-5c3b-494c-ac3f-b5b6b4591091"
      },
      "outputs": [
        {
          "data": {
            "text/plain": [
              "array([ 1, -4, -2, -3, -4,  1, -4, -3, -4, -1])"
            ]
          },
          "execution_count": 8,
          "metadata": {},
          "output_type": "execute_result"
        }
      ],
      "source": [
        "np.random.randint(-4, 2, 10) # dim=10, случаные целые числа от -4 до 2"
      ]
    },
    {
      "cell_type": "markdown",
      "metadata": {
        "id": "ZfVe6rTMt6qY"
      },
      "source": [
        "## преобразовать из Pandas Series"
      ]
    },
    {
      "cell_type": "code",
      "execution_count": null,
      "metadata": {
        "id": "xSF7nv58ymWJ",
        "outputId": "79b775dc-8161-465f-ebd7-e870cf7be016"
      },
      "outputs": [
        {
          "name": "stdout",
          "output_type": "stream",
          "text": [
            "Series:\n",
            " 0     65\n",
            "1     70\n",
            "2    120\n",
            "3     35\n",
            "dtype: int64\n"
          ]
        }
      ],
      "source": [
        "import pandas as pd\n",
        "data = [65, 70, 120, 35]\n",
        "s = pd.Series(data)\n",
        "print('Series:\\n',s)"
      ]
    },
    {
      "cell_type": "code",
      "execution_count": null,
      "metadata": {
        "id": "znujxj8aymWO",
        "outputId": "9d09762e-69f8-4039-d4d6-7d879c9b4c99"
      },
      "outputs": [
        {
          "name": "stdout",
          "output_type": "stream",
          "text": [
            "vector:\n",
            " [ 65  70 120  35]\n",
            "type of x: <class 'numpy.ndarray'>\n"
          ]
        }
      ],
      "source": [
        "x = s.values # возвращает значения s\n",
        "print('vector:\\n',x)\n",
        "print('type of x:',type(x))"
      ]
    },
    {
      "cell_type": "markdown",
      "metadata": {
        "id": "PO6X79Ftt6qb"
      },
      "source": [
        "## преобразовать из Pandas DataFrame"
      ]
    },
    {
      "cell_type": "code",
      "execution_count": null,
      "metadata": {
        "id": "0ZYwt1ilymWU",
        "outputId": "07ee9250-4476-402e-a59a-79178b2e922d"
      },
      "outputs": [
        {
          "name": "stdout",
          "output_type": "stream",
          "text": [
            "Data Frame:\n",
            "     $$  2.Area  3.Rooms  4.Floor  5.Demo\n",
            "0   65      50        3        5       8\n",
            "1   70      52        2       12       4\n",
            "2  120      80        1       10       5\n",
            "3   35      33        1        3      10\n"
          ]
        }
      ],
      "source": [
        "d = {'$$': [65, 70, 120, 35], '2.Area': [50, 52, 80, 33],'3.Rooms':[3,2,1,1],\n",
        "     '4.Floor':[5,12,10,3], '5.Demo':[8,4,5,10]}\n",
        "df = pd.DataFrame(d)\n",
        "print('Data Frame:\\n',df)"
      ]
    },
    {
      "cell_type": "code",
      "execution_count": null,
      "metadata": {
        "id": "mnUU7al2ymWa",
        "outputId": "461d3383-c973-4aa6-bb61-272d9bfe2e63"
      },
      "outputs": [
        {
          "name": "stdout",
          "output_type": "stream",
          "text": [
            "Matrix:\n",
            " [[ 65  50   3   5   8]\n",
            " [ 70  52   2  12   4]\n",
            " [120  80   1  10   5]\n",
            " [ 35  33   1   3  10]]\n"
          ]
        }
      ],
      "source": [
        "A = df.values # возвращает значения df\n",
        "print('Matrix:\\n',A)"
      ]
    },
    {
      "cell_type": "markdown",
      "metadata": {
        "id": "nkGGsSZKt6qd"
      },
      "source": [
        "# Срез матрицы"
      ]
    },
    {
      "cell_type": "code",
      "execution_count": null,
      "metadata": {
        "id": "w-4RhmRvymWf",
        "outputId": "ff57c7d9-8d15-4b70-f3cd-0148d7a5a200"
      },
      "outputs": [
        {
          "name": "stdout",
          "output_type": "stream",
          "text": [
            "Second apartment vector:\n",
            " [70 52  2 12  4]\n",
            "type of x: <class 'numpy.ndarray'>\n"
          ]
        }
      ],
      "source": [
        "x=A[1] # вторая строка матрицы А\n",
        "print('Second apartment vector:\\n',x)\n",
        "print('type of x:',type(x))"
      ]
    },
    {
      "cell_type": "code",
      "execution_count": null,
      "metadata": {
        "id": "W6_SwmjNymWj",
        "outputId": "61676e9a-f456-42d0-be18-34b588b551d5"
      },
      "outputs": [
        {
          "name": "stdout",
          "output_type": "stream",
          "text": [
            "$$ vector:\n",
            " [ 65  70 120  35]\n"
          ]
        }
      ],
      "source": [
        "y=A[:,0] # первый столбец матрицы А\n",
        "print('$$ vector:\\n',y)"
      ]
    },
    {
      "cell_type": "code",
      "execution_count": null,
      "metadata": {
        "id": "xBlKUENeymWn",
        "outputId": "0f3d0749-05fc-4aa3-92e8-c7cfee913069"
      },
      "outputs": [
        {
          "name": "stdout",
          "output_type": "stream",
          "text": [
            "$$ of 3 apartment: 120\n"
          ]
        }
      ],
      "source": [
        "# индексация векторов - поиск нужной координаты\n",
        "print('$$ of 3 apartment:',y[2]) # третья координата"
      ]
    },
    {
      "cell_type": "markdown",
      "metadata": {
        "id": "WnMekSLNt6qh"
      },
      "source": [
        "# Размерность вектора"
      ]
    },
    {
      "cell_type": "code",
      "execution_count": null,
      "metadata": {
        "id": "NOi0XzfMymWr",
        "outputId": "b6085028-5289-4506-fbc7-a0e84a161a0c"
      },
      "outputs": [
        {
          "name": "stdout",
          "output_type": "stream",
          "text": [
            "Number of apartments = dim(y): 4\n"
          ]
        }
      ],
      "source": [
        "\n",
        "print('Number of apartments = dim(y):', len(y))"
      ]
    },
    {
      "cell_type": "markdown",
      "metadata": {
        "id": "fvsRwSSPt6qi"
      },
      "source": [
        "# Операции с векторами"
      ]
    },
    {
      "cell_type": "markdown",
      "metadata": {
        "id": "FoKFEkRqt6qj"
      },
      "source": [
        "## сумма и произведение векторов"
      ]
    },
    {
      "cell_type": "code",
      "execution_count": null,
      "metadata": {
        "id": "Rhk38HtvymWy",
        "outputId": "dcd68f3b-30d9-4fee-d004-2de8e5c32196"
      },
      "outputs": [
        {
          "name": "stdout",
          "output_type": "stream",
          "text": [
            "a+b: [ 7  9 11]\n",
            "2a: [2 4 6]\n"
          ]
        }
      ],
      "source": [
        "# сумма векторов и умножение на число\n",
        "a=np.array([1,2,3])\n",
        "b=np.array([6,7,8])\n",
        "print('a+b:',a+b)\n",
        "print('2a:',2*a)"
      ]
    },
    {
      "cell_type": "code",
      "execution_count": null,
      "metadata": {
        "id": "GB9jEZniymW6",
        "outputId": "1d90e326-fdc8-4bb2-e7ee-8f40ba365bc6"
      },
      "outputs": [
        {
          "name": "stdout",
          "output_type": "stream",
          "text": [
            "a+b: [1, 2, 3, 6, 7, 8]\n",
            "2a: [1, 2, 3, 1, 2, 3]\n"
          ]
        }
      ],
      "source": [
        "# сумма списков и умножение на число не является векторной операцией!\n",
        "a_list=[1,2,3]\n",
        "b_list=[6,7,8]\n",
        "print('a+b:',a_list+b_list)\n",
        "print('2a:',2*a_list)"
      ]
    },
    {
      "cell_type": "markdown",
      "metadata": {
        "id": "xP3_eWS3t6ql"
      },
      "source": [
        "## линейная комбинация"
      ]
    },
    {
      "cell_type": "code",
      "execution_count": null,
      "metadata": {
        "id": "Uhem8xWDymXE",
        "outputId": "ebc19e52-60d8-4fe9-c068-9a222fa47ebe"
      },
      "outputs": [
        {
          "name": "stdout",
          "output_type": "stream",
          "text": [
            "linear combination: [17 18 25]\n"
          ]
        }
      ],
      "source": [
        "# линейная комбинация с коэффициентами 2, 2, 3\n",
        "a=np.array([1,2,3])\n",
        "b=np.array([6,7,8])\n",
        "c=np.array([1,0,1])\n",
        "\n",
        "d=2*a+2*b+3*c\n",
        "print('linear combination:',d)"
      ]
    },
    {
      "cell_type": "markdown",
      "metadata": {
        "id": "6s3uDp24t6qn"
      },
      "source": [
        "## скалярное произведение"
      ]
    },
    {
      "cell_type": "code",
      "execution_count": null,
      "metadata": {
        "id": "5nG5tKovymXK",
        "outputId": "4091a0b9-bf47-415b-c732-aafcbbf3824e"
      },
      "outputs": [
        {
          "name": "stdout",
          "output_type": "stream",
          "text": [
            "scalar product: 44\n",
            "coordinate product: [ 6 14 24]\n"
          ]
        }
      ],
      "source": [
        "# скалярное произведение\n",
        "\n",
        "s=np.dot(a,b)\n",
        "print('scalar product:',s)\n",
        "\n",
        "# покоординатное умножение\n",
        "print('coordinate product:',a*b)"
      ]
    },
    {
      "cell_type": "code",
      "execution_count": null,
      "metadata": {
        "id": "J9PPebk7ymXW",
        "outputId": "ddb746c0-383a-45e9-ea2f-41f280f1a796"
      },
      "outputs": [
        {
          "name": "stdout",
          "output_type": "stream",
          "text": [
            "scalar product: 44\n"
          ]
        }
      ],
      "source": [
        "# скалярное произведение - еще один способ\n",
        "s1=a@b\n",
        "print('scalar product:',s1)"
      ]
    },
    {
      "cell_type": "markdown",
      "metadata": {
        "id": "96KZSpQUt6qq"
      },
      "source": [
        "## длина вектора"
      ]
    },
    {
      "cell_type": "code",
      "execution_count": null,
      "metadata": {
        "id": "Hpgi94aRymXa",
        "outputId": "a882c403-cf22-4632-a8d7-35be4ea5c771"
      },
      "outputs": [
        {
          "name": "stdout",
          "output_type": "stream",
          "text": [
            "length of a: 3.7416573867739413\n"
          ]
        }
      ],
      "source": [
        "# длина вектора\n",
        "l=np.linalg.norm(a)\n",
        "print('length of a:',l)"
      ]
    },
    {
      "cell_type": "markdown",
      "metadata": {
        "id": "w5cG5O8tt6qr"
      },
      "source": [
        "## нормировка"
      ]
    },
    {
      "cell_type": "code",
      "execution_count": null,
      "metadata": {
        "id": "-0HZq_wUymXi",
        "outputId": "722071fb-f0b5-4934-f41c-aaddbbd9877e"
      },
      "outputs": [
        {
          "name": "stdout",
          "output_type": "stream",
          "text": [
            "a_norm: [0.26726124 0.53452248 0.80178373]\n",
            "length of a_norm: 1.0\n"
          ]
        }
      ],
      "source": [
        "# нормировка\n",
        "a_norm=a/np.linalg.norm(a)\n",
        "print('a_norm:',a_norm)\n",
        "print('length of a_norm:',np.linalg.norm(a_norm))"
      ]
    },
    {
      "cell_type": "markdown",
      "metadata": {
        "id": "6UN_9P3Mt6q3"
      },
      "source": [
        "## пропорциональность и ортогональность"
      ]
    },
    {
      "cell_type": "code",
      "execution_count": null,
      "metadata": {
        "id": "RXKe-abRymXo",
        "outputId": "32890df0-714b-4e18-a281-7f234ccf7ab2"
      },
      "outputs": [
        {
          "name": "stdout",
          "output_type": "stream",
          "text": [
            "a: [1 2 1]\n",
            "b: [2 4 2]\n",
            "c: [-1  1 -1]\n"
          ]
        }
      ],
      "source": [
        "#пропорциональность и ортогональность\n",
        "a=np.array([1,2,1])\n",
        "b=a*2\n",
        "c=np.array([-1,1,-1])\n",
        "print('a:',a)\n",
        "print('b:',b)\n",
        "print('c:',c)"
      ]
    },
    {
      "cell_type": "code",
      "execution_count": null,
      "metadata": {
        "id": "ze2-yWVDymXq",
        "outputId": "012a1c44-2e0e-4f55-d995-a986465458ee"
      },
      "outputs": [
        {
          "name": "stdout",
          "output_type": "stream",
          "text": [
            "(a,b): 12\n",
            "(a,c): 0\n",
            "(b,c): 0\n"
          ]
        }
      ],
      "source": [
        "#пропорциональность и ортогональность\n",
        "print(\"(a,b):\",np.dot(a,b))\n",
        "print(\"(a,c):\",np.dot(a,c))\n",
        "print(\"(b,c):\",np.dot(b,c))"
      ]
    },
    {
      "cell_type": "code",
      "execution_count": null,
      "metadata": {
        "id": "AF7Z9P9WymXy",
        "outputId": "1cbdb4d6-9777-40fd-8418-ce92e69f443f"
      },
      "outputs": [
        {
          "name": "stdout",
          "output_type": "stream",
          "text": [
            "a: [1 0 1]\n",
            "b: [0 1 0]\n",
            "c: [ 1  0 -1]\n"
          ]
        }
      ],
      "source": [
        "# попарная ортогональность - да\n",
        "a=np.array([1,0,1])\n",
        "b=np.array([0,1,0])\n",
        "c=np.array([1,0,-1])\n",
        "print('a:',a)\n",
        "print('b:',b)\n",
        "print('c:',c)"
      ]
    },
    {
      "cell_type": "code",
      "execution_count": null,
      "metadata": {
        "id": "F9Xi-O17ymX4",
        "outputId": "6ae46176-fe47-4e48-be4d-bfbefeab5f81"
      },
      "outputs": [
        {
          "name": "stdout",
          "output_type": "stream",
          "text": [
            "(a,b): 0\n",
            "(b,c): 0\n",
            "(a,c): 0\n"
          ]
        }
      ],
      "source": [
        "# попарная ортогональность - да\n",
        "print('(a,b):',np.dot(a,b))\n",
        "print('(b,c):',np.dot(b,c))\n",
        "print('(a,c):',np.dot(a,c))"
      ]
    },
    {
      "cell_type": "code",
      "execution_count": null,
      "metadata": {
        "id": "0JhrwPvPymX7",
        "outputId": "adab52a4-5723-4347-b9b9-e1380835a3e2"
      },
      "outputs": [
        {
          "name": "stdout",
          "output_type": "stream",
          "text": [
            "a: [1 0 1]\n",
            "b: [0 1 0]\n",
            "с1: [1 0 4]\n"
          ]
        }
      ],
      "source": [
        "# попарная ортогональность - нет\n",
        "c1=np.array([1,0,4])\n",
        "print('a:',a)\n",
        "print('b:',b)\n",
        "print('с1:',c1)"
      ]
    },
    {
      "cell_type": "code",
      "execution_count": null,
      "metadata": {
        "id": "ZmeF_7G2ymX-",
        "outputId": "1269af21-0431-4745-8596-4cdf7066499c"
      },
      "outputs": [
        {
          "name": "stdout",
          "output_type": "stream",
          "text": [
            "(a,b): 0\n",
            "(b,c1): 0\n",
            "(a,c1): 5\n"
          ]
        }
      ],
      "source": [
        "# попарная ортогональность - нет\n",
        "print('(a,b):',a@b)\n",
        "print('(b,c1):',b@c1)\n",
        "print('(a,c1):',a@c1)"
      ]
    },
    {
      "cell_type": "code",
      "metadata": {
        "id": "2djqzK80ymYE"
      },
      "source": [
        "# Практика\n",
        "В Hut_Paradise_DF представлен фрагмент базы данных агентства «Рай в Шалаше». По строкам расположены квартиры, по столбцам — параметры: арендная плата, общая площадь, количество комнат, этаж, количество показов на две недели и жилая площадь:"
      ],
      "execution_count": null,
      "outputs": []
    },
    {
      "cell_type": "code",
      "execution_count": null,
      "metadata": {
        "id": "XkKYm9llt6q-"
      },
      "outputs": [],
      "source": [
        "import pandas as pd\n",
        "\n",
        "Hut_Paradise_DF = pd.DataFrame({\n",
        "    '1.Rent': [65, 70, 120, 35, 40, 50, 100, 90, 85],\n",
        "    '2.Area': [50, 52, 80, 33, 33, 44, 80, 65, 65],\n",
        "    '3.Rooms':[3, 2, 1, 1, 1, 2, 4, 3, 2],\n",
        "    '4.Floor':[5, 12, 10, 3, 6, 13, 8, 21, 5],\n",
        "    '5.Demo two weeks':[8, 4, 5, 10, 20, 12, 5, 1, 10],\n",
        "    '6.Liv.Area': [37, 40, 65, 20, 16, 35, 60, 50, 40]\n",
        "})"
      ]
    },
    {
      "cell_type": "code",
      "execution_count": null,
      "metadata": {
        "id": "fmoi0nPtt6q_",
        "outputId": "2e72673b-893d-4274-845d-55db05d075e7"
      },
      "outputs": [
        {
          "data": {
            "text/html": [
              "<div>\n",
              "<style scoped>\n",
              "    .dataframe tbody tr th:only-of-type {\n",
              "        vertical-align: middle;\n",
              "    }\n",
              "\n",
              "    .dataframe tbody tr th {\n",
              "        vertical-align: top;\n",
              "    }\n",
              "\n",
              "    .dataframe thead th {\n",
              "        text-align: right;\n",
              "    }\n",
              "</style>\n",
              "<table border=\"1\" class=\"dataframe\">\n",
              "  <thead>\n",
              "    <tr style=\"text-align: right;\">\n",
              "      <th></th>\n",
              "      <th>1.Rent</th>\n",
              "      <th>2.Area</th>\n",
              "      <th>3.Rooms</th>\n",
              "      <th>4.Floor</th>\n",
              "      <th>5.Demo two weeks</th>\n",
              "      <th>6.Liv.Area</th>\n",
              "    </tr>\n",
              "  </thead>\n",
              "  <tbody>\n",
              "    <tr>\n",
              "      <th>0</th>\n",
              "      <td>65</td>\n",
              "      <td>50</td>\n",
              "      <td>3</td>\n",
              "      <td>5</td>\n",
              "      <td>8</td>\n",
              "      <td>37</td>\n",
              "    </tr>\n",
              "    <tr>\n",
              "      <th>1</th>\n",
              "      <td>70</td>\n",
              "      <td>52</td>\n",
              "      <td>2</td>\n",
              "      <td>12</td>\n",
              "      <td>4</td>\n",
              "      <td>40</td>\n",
              "    </tr>\n",
              "    <tr>\n",
              "      <th>2</th>\n",
              "      <td>120</td>\n",
              "      <td>80</td>\n",
              "      <td>1</td>\n",
              "      <td>10</td>\n",
              "      <td>5</td>\n",
              "      <td>65</td>\n",
              "    </tr>\n",
              "    <tr>\n",
              "      <th>3</th>\n",
              "      <td>35</td>\n",
              "      <td>33</td>\n",
              "      <td>1</td>\n",
              "      <td>3</td>\n",
              "      <td>10</td>\n",
              "      <td>20</td>\n",
              "    </tr>\n",
              "    <tr>\n",
              "      <th>4</th>\n",
              "      <td>40</td>\n",
              "      <td>33</td>\n",
              "      <td>1</td>\n",
              "      <td>6</td>\n",
              "      <td>20</td>\n",
              "      <td>16</td>\n",
              "    </tr>\n",
              "    <tr>\n",
              "      <th>5</th>\n",
              "      <td>50</td>\n",
              "      <td>44</td>\n",
              "      <td>2</td>\n",
              "      <td>13</td>\n",
              "      <td>12</td>\n",
              "      <td>35</td>\n",
              "    </tr>\n",
              "    <tr>\n",
              "      <th>6</th>\n",
              "      <td>100</td>\n",
              "      <td>80</td>\n",
              "      <td>4</td>\n",
              "      <td>8</td>\n",
              "      <td>5</td>\n",
              "      <td>60</td>\n",
              "    </tr>\n",
              "    <tr>\n",
              "      <th>7</th>\n",
              "      <td>90</td>\n",
              "      <td>65</td>\n",
              "      <td>3</td>\n",
              "      <td>21</td>\n",
              "      <td>1</td>\n",
              "      <td>50</td>\n",
              "    </tr>\n",
              "    <tr>\n",
              "      <th>8</th>\n",
              "      <td>85</td>\n",
              "      <td>65</td>\n",
              "      <td>2</td>\n",
              "      <td>5</td>\n",
              "      <td>10</td>\n",
              "      <td>40</td>\n",
              "    </tr>\n",
              "  </tbody>\n",
              "</table>\n",
              "</div>"
            ],
            "text/plain": [
              "   1.Rent  2.Area  3.Rooms  4.Floor  5.Demo two weeks  6.Liv.Area\n",
              "0      65      50        3        5                 8          37\n",
              "1      70      52        2       12                 4          40\n",
              "2     120      80        1       10                 5          65\n",
              "3      35      33        1        3                10          20\n",
              "4      40      33        1        6                20          16\n",
              "5      50      44        2       13                12          35\n",
              "6     100      80        4        8                 5          60\n",
              "7      90      65        3       21                 1          50\n",
              "8      85      65        2        5                10          40"
            ]
          },
          "execution_count": 31,
          "metadata": {},
          "output_type": "execute_result"
        }
      ],
      "source": [
        "Hut_Paradise_DF"
      ]
    },
    {
      "cell_type": "markdown",
      "metadata": {
        "id": "MzPBYC4Qt6rA"
      },
      "source": [
        "Найдите вектор параметров квартиры номер 5 (нумерация квартир — с 1). Для преобразования DataFrame в массив numpy можно воспользоваться атрибутом values:"
      ]
    },
    {
      "cell_type": "code",
      "execution_count": null,
      "metadata": {
        "id": "BNfvrByIt6rA"
      },
      "outputs": [],
      "source": [
        "Hut_Paradise_values = Hut_Paradise_DF.values"
      ]
    },
    {
      "cell_type": "code",
      "execution_count": null,
      "metadata": {
        "id": "6Yj9EDgst6rB",
        "outputId": "8fd885b0-87be-4075-e8cd-842682c6cb69"
      },
      "outputs": [
        {
          "data": {
            "text/plain": [
              "array([40, 33,  1,  6, 20, 16])"
            ]
          },
          "execution_count": 33,
          "metadata": {},
          "output_type": "execute_result"
        }
      ],
      "source": [
        "Hut_Paradise_values[4]"
      ]
    },
    {
      "cell_type": "code",
      "execution_count": null,
      "metadata": {
        "id": "-zDlBKO_t6rC",
        "outputId": "6effcd95-4d37-45cf-c868-aee3e9dafacc"
      },
      "outputs": [
        {
          "data": {
            "text/plain": [
              "array([ 5, 12, 10,  3,  6, 13,  8, 21,  5])"
            ]
          },
          "execution_count": 35,
          "metadata": {},
          "output_type": "execute_result"
        }
      ],
      "source": [
        "#Найдите вектор этажей всех квартир\n",
        "Hut_Paradise_values[:,3]"
      ]
    },
    {
      "cell_type": "code",
      "execution_count": null,
      "metadata": {
        "id": "GBF01aZet6rD",
        "outputId": "aedeea97-73da-4d4e-cca9-5435d96e4c6f"
      },
      "outputs": [
        {
          "data": {
            "text/plain": [
              "array([13, 12, 15, 13, 17,  9, 20, 15, 25])"
            ]
          },
          "execution_count": 36,
          "metadata": {},
          "output_type": "execute_result"
        }
      ],
      "source": [
        "#Вычислите вектор нежилой площади\n",
        "Notlive = Hut_Paradise_values[:,1]-Hut_Paradise_values[:,-1]\n",
        "Notlive"
      ]
    },
    {
      "cell_type": "markdown",
      "metadata": {
        "id": "-ywG-D32t6rE"
      },
      "source": [
        "Пусть в первой квартире один просмотр занимает 10 минут, во второй — 20 минут, в третьей — полчаса, в четверой — 15 минут, в пятой — 5 минут, в шестой — 40 минут, в седьмой — 20 минут, в восьмой — 8 минут и в девятой — 20 минут.\n",
        "\n",
        "Найдите продолжительность просмотров в минутах во всех квартирах за две недели."
      ]
    },
    {
      "cell_type": "code",
      "execution_count": null,
      "metadata": {
        "id": "rnzLDZEdt6rE",
        "outputId": "04ad4fdf-c2a8-4fa2-f3ea-0b78f09a79f2"
      },
      "outputs": [
        {
          "name": "stdout",
          "output_type": "stream",
          "text": [
            "1348\n"
          ]
        }
      ],
      "source": [
        "list_of_seen = [10,20,30,15,5,40,20,8,20]\n",
        "list_of_seen_m = np.array(list_of_seen)\n",
        "time_of_seen = Hut_Paradise_values[:,4]@list_of_seen_m\n",
        "print(time_of_seen)"
      ]
    },
    {
      "cell_type": "markdown",
      "metadata": {
        "id": "_R8a4pAZt6rF"
      },
      "source": [
        "Дано три вектора. Составьте линейную комбинацию векторов v и w с коэффициентами 2 и -3. Выберите координаты полученного вектора:"
      ]
    },
    {
      "cell_type": "code",
      "execution_count": null,
      "metadata": {
        "id": "WB1cK3avt6rG"
      },
      "outputs": [],
      "source": [
        "u=np.array([3,0,1,1,1])\n",
        "v=np.array([0,1,0,2,-2])\n",
        "w=np.array([1,-4,-1,0,-2])"
      ]
    },
    {
      "cell_type": "code",
      "execution_count": null,
      "metadata": {
        "id": "WjPjV7D-t6rH",
        "outputId": "5829773b-9f5a-4384-d8ce-feab5188d0cf"
      },
      "outputs": [
        {
          "data": {
            "text/plain": [
              "array([-3, 14,  3,  4,  2])"
            ]
          },
          "execution_count": 40,
          "metadata": {},
          "output_type": "execute_result"
        }
      ],
      "source": [
        "a  = v*2 + w*(-3)\n",
        "a"
      ]
    },
    {
      "cell_type": "code",
      "execution_count": null,
      "metadata": {
        "id": "NUPWocoDt6rR",
        "outputId": "9d4aa1dd-9e66-4efd-d0d8-15c200def225"
      },
      "outputs": [
        {
          "name": "stdout",
          "output_type": "stream",
          "text": [
            "(a,u): 0\n"
          ]
        }
      ],
      "source": [
        "print('(a,u):',a@u)"
      ]
    }
  ],
  "metadata": {
    "colab": {
      "provenance": [],
      "toc_visible": true,
      "include_colab_link": true
    },
    "kernelspec": {
      "display_name": "Python 3.9.7 ('base')",
      "language": "python",
      "name": "python3"
    },
    "language_info": {
      "codemirror_mode": {
        "name": "ipython",
        "version": 3
      },
      "file_extension": ".py",
      "mimetype": "text/x-python",
      "name": "python",
      "nbconvert_exporter": "python",
      "pygments_lexer": "ipython3",
      "version": "3.9.7"
    },
    "vscode": {
      "interpreter": {
        "hash": "1448b48b023bcc9c3d4a79e814720a10ca6d4244f75e0f7ce4af58f96ba2b7d3"
      }
    }
  },
  "nbformat": 4,
  "nbformat_minor": 0
}